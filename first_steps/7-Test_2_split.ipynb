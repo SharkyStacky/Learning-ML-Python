{
 "cells": [
  {
   "cell_type": "code",
   "execution_count": 1,
   "metadata": {},
   "outputs": [],
   "source": [
    "import os\n",
    "import numpy as np \n",
    "import pandas as pd \n",
    "import warnings\n",
    "import seaborn as sns\n",
    "import matplotlib.pyplot as plt\n",
    "import plotly.express as px\n",
    "warnings.filterwarnings(\"ignore\")\n",
    "pd.set_option(\"display.max_rows\",None)\n",
    "from sklearn import preprocessing\n",
    "import matplotlib \n",
    "matplotlib.style.use('ggplot')\n",
    "from sklearn.preprocessing import LabelEncoder"
   ]
  },
  {
   "cell_type": "code",
   "execution_count": 2,
   "metadata": {},
   "outputs": [
    {
     "data": {
      "text/html": [
       "<div>\n",
       "<style scoped>\n",
       "    .dataframe tbody tr th:only-of-type {\n",
       "        vertical-align: middle;\n",
       "    }\n",
       "\n",
       "    .dataframe tbody tr th {\n",
       "        vertical-align: top;\n",
       "    }\n",
       "\n",
       "    .dataframe thead th {\n",
       "        text-align: right;\n",
       "    }\n",
       "</style>\n",
       "<table border=\"1\" class=\"dataframe\">\n",
       "  <thead>\n",
       "    <tr style=\"text-align: right;\">\n",
       "      <th></th>\n",
       "      <th>age</th>\n",
       "      <th>sex</th>\n",
       "      <th>cp</th>\n",
       "      <th>trtbps</th>\n",
       "      <th>chol</th>\n",
       "      <th>fbs</th>\n",
       "      <th>restecg</th>\n",
       "      <th>thalachh</th>\n",
       "      <th>exng</th>\n",
       "      <th>oldpeak</th>\n",
       "      <th>slp</th>\n",
       "      <th>caa</th>\n",
       "      <th>thall</th>\n",
       "      <th>output</th>\n",
       "    </tr>\n",
       "  </thead>\n",
       "  <tbody>\n",
       "    <tr>\n",
       "      <th>0</th>\n",
       "      <td>63</td>\n",
       "      <td>1</td>\n",
       "      <td>3</td>\n",
       "      <td>145</td>\n",
       "      <td>233</td>\n",
       "      <td>1</td>\n",
       "      <td>0</td>\n",
       "      <td>150</td>\n",
       "      <td>0</td>\n",
       "      <td>2.3</td>\n",
       "      <td>0</td>\n",
       "      <td>0</td>\n",
       "      <td>1</td>\n",
       "      <td>1</td>\n",
       "    </tr>\n",
       "    <tr>\n",
       "      <th>1</th>\n",
       "      <td>37</td>\n",
       "      <td>1</td>\n",
       "      <td>2</td>\n",
       "      <td>130</td>\n",
       "      <td>250</td>\n",
       "      <td>0</td>\n",
       "      <td>1</td>\n",
       "      <td>187</td>\n",
       "      <td>0</td>\n",
       "      <td>3.5</td>\n",
       "      <td>0</td>\n",
       "      <td>0</td>\n",
       "      <td>2</td>\n",
       "      <td>1</td>\n",
       "    </tr>\n",
       "    <tr>\n",
       "      <th>2</th>\n",
       "      <td>41</td>\n",
       "      <td>0</td>\n",
       "      <td>1</td>\n",
       "      <td>130</td>\n",
       "      <td>204</td>\n",
       "      <td>0</td>\n",
       "      <td>0</td>\n",
       "      <td>172</td>\n",
       "      <td>0</td>\n",
       "      <td>1.4</td>\n",
       "      <td>2</td>\n",
       "      <td>0</td>\n",
       "      <td>2</td>\n",
       "      <td>1</td>\n",
       "    </tr>\n",
       "    <tr>\n",
       "      <th>3</th>\n",
       "      <td>56</td>\n",
       "      <td>1</td>\n",
       "      <td>1</td>\n",
       "      <td>120</td>\n",
       "      <td>236</td>\n",
       "      <td>0</td>\n",
       "      <td>1</td>\n",
       "      <td>178</td>\n",
       "      <td>0</td>\n",
       "      <td>0.8</td>\n",
       "      <td>2</td>\n",
       "      <td>0</td>\n",
       "      <td>2</td>\n",
       "      <td>1</td>\n",
       "    </tr>\n",
       "    <tr>\n",
       "      <th>4</th>\n",
       "      <td>57</td>\n",
       "      <td>0</td>\n",
       "      <td>0</td>\n",
       "      <td>120</td>\n",
       "      <td>354</td>\n",
       "      <td>0</td>\n",
       "      <td>1</td>\n",
       "      <td>163</td>\n",
       "      <td>1</td>\n",
       "      <td>0.6</td>\n",
       "      <td>2</td>\n",
       "      <td>0</td>\n",
       "      <td>2</td>\n",
       "      <td>1</td>\n",
       "    </tr>\n",
       "  </tbody>\n",
       "</table>\n",
       "</div>"
      ],
      "text/plain": [
       "   age  sex  cp  trtbps  chol  fbs  restecg  thalachh  exng  oldpeak  slp  \\\n",
       "0   63    1   3     145   233    1        0       150     0      2.3    0   \n",
       "1   37    1   2     130   250    0        1       187     0      3.5    0   \n",
       "2   41    0   1     130   204    0        0       172     0      1.4    2   \n",
       "3   56    1   1     120   236    0        1       178     0      0.8    2   \n",
       "4   57    0   0     120   354    0        1       163     1      0.6    2   \n",
       "\n",
       "   caa  thall  output  \n",
       "0    0      1       1  \n",
       "1    0      2       1  \n",
       "2    0      2       1  \n",
       "3    0      2       1  \n",
       "4    0      2       1  "
      ]
     },
     "execution_count": 2,
     "metadata": {},
     "output_type": "execute_result"
    }
   ],
   "source": [
    "df=pd.read_csv(\"../data/heart_attack/heart.csv\")\n",
    "df.head()"
   ]
  },
  {
   "cell_type": "code",
   "execution_count": 3,
   "metadata": {},
   "outputs": [
    {
     "name": "stdout",
     "output_type": "stream",
     "text": [
      "Packages imported...\n"
     ]
    }
   ],
   "source": [
    "from sklearn.preprocessing import RobustScaler\n",
    "\n",
    "# Train Test Split\n",
    "from sklearn.model_selection import train_test_split\n",
    "\n",
    "# Models\n",
    "import torch\n",
    "import torch.nn as nn\n",
    "from sklearn.svm import SVC\n",
    "from sklearn.linear_model import LogisticRegression\n",
    "from sklearn.ensemble import RandomForestClassifier\n",
    "from sklearn.tree import DecisionTreeClassifier\n",
    "from sklearn.ensemble import GradientBoostingClassifier\n",
    "\n",
    "# Metrics\n",
    "from sklearn.metrics import accuracy_score, classification_report, roc_curve\n",
    "\n",
    "# Cross Validation\n",
    "from sklearn.model_selection import cross_val_score\n",
    "from sklearn.model_selection import GridSearchCV\n",
    "\n",
    "print('Packages imported...')"
   ]
  },
  {
   "cell_type": "code",
   "execution_count": 4,
   "metadata": {},
   "outputs": [
    {
     "name": "stdout",
     "output_type": "stream",
     "text": [
      "The first 5 rows of X are\n"
     ]
    },
    {
     "data": {
      "text/html": [
       "<div>\n",
       "<style scoped>\n",
       "    .dataframe tbody tr th:only-of-type {\n",
       "        vertical-align: middle;\n",
       "    }\n",
       "\n",
       "    .dataframe tbody tr th {\n",
       "        vertical-align: top;\n",
       "    }\n",
       "\n",
       "    .dataframe thead th {\n",
       "        text-align: right;\n",
       "    }\n",
       "</style>\n",
       "<table border=\"1\" class=\"dataframe\">\n",
       "  <thead>\n",
       "    <tr style=\"text-align: right;\">\n",
       "      <th></th>\n",
       "      <th>age</th>\n",
       "      <th>trtbps</th>\n",
       "      <th>chol</th>\n",
       "      <th>thalachh</th>\n",
       "      <th>oldpeak</th>\n",
       "      <th>sex_1</th>\n",
       "      <th>exng_1</th>\n",
       "      <th>caa_1</th>\n",
       "      <th>caa_2</th>\n",
       "      <th>caa_3</th>\n",
       "      <th>...</th>\n",
       "      <th>cp_2</th>\n",
       "      <th>cp_3</th>\n",
       "      <th>fbs_1</th>\n",
       "      <th>restecg_1</th>\n",
       "      <th>restecg_2</th>\n",
       "      <th>slp_1</th>\n",
       "      <th>slp_2</th>\n",
       "      <th>thall_1</th>\n",
       "      <th>thall_2</th>\n",
       "      <th>thall_3</th>\n",
       "    </tr>\n",
       "  </thead>\n",
       "  <tbody>\n",
       "    <tr>\n",
       "      <th>0</th>\n",
       "      <td>0.592593</td>\n",
       "      <td>0.75</td>\n",
       "      <td>-0.110236</td>\n",
       "      <td>-0.092308</td>\n",
       "      <td>0.9375</td>\n",
       "      <td>True</td>\n",
       "      <td>False</td>\n",
       "      <td>False</td>\n",
       "      <td>False</td>\n",
       "      <td>False</td>\n",
       "      <td>...</td>\n",
       "      <td>False</td>\n",
       "      <td>True</td>\n",
       "      <td>True</td>\n",
       "      <td>False</td>\n",
       "      <td>False</td>\n",
       "      <td>False</td>\n",
       "      <td>False</td>\n",
       "      <td>True</td>\n",
       "      <td>False</td>\n",
       "      <td>False</td>\n",
       "    </tr>\n",
       "    <tr>\n",
       "      <th>1</th>\n",
       "      <td>-1.333333</td>\n",
       "      <td>0.00</td>\n",
       "      <td>0.157480</td>\n",
       "      <td>1.046154</td>\n",
       "      <td>1.6875</td>\n",
       "      <td>True</td>\n",
       "      <td>False</td>\n",
       "      <td>False</td>\n",
       "      <td>False</td>\n",
       "      <td>False</td>\n",
       "      <td>...</td>\n",
       "      <td>True</td>\n",
       "      <td>False</td>\n",
       "      <td>False</td>\n",
       "      <td>True</td>\n",
       "      <td>False</td>\n",
       "      <td>False</td>\n",
       "      <td>False</td>\n",
       "      <td>False</td>\n",
       "      <td>True</td>\n",
       "      <td>False</td>\n",
       "    </tr>\n",
       "    <tr>\n",
       "      <th>2</th>\n",
       "      <td>-1.037037</td>\n",
       "      <td>0.00</td>\n",
       "      <td>-0.566929</td>\n",
       "      <td>0.584615</td>\n",
       "      <td>0.3750</td>\n",
       "      <td>False</td>\n",
       "      <td>False</td>\n",
       "      <td>False</td>\n",
       "      <td>False</td>\n",
       "      <td>False</td>\n",
       "      <td>...</td>\n",
       "      <td>False</td>\n",
       "      <td>False</td>\n",
       "      <td>False</td>\n",
       "      <td>False</td>\n",
       "      <td>False</td>\n",
       "      <td>False</td>\n",
       "      <td>True</td>\n",
       "      <td>False</td>\n",
       "      <td>True</td>\n",
       "      <td>False</td>\n",
       "    </tr>\n",
       "    <tr>\n",
       "      <th>3</th>\n",
       "      <td>0.074074</td>\n",
       "      <td>-0.50</td>\n",
       "      <td>-0.062992</td>\n",
       "      <td>0.769231</td>\n",
       "      <td>0.0000</td>\n",
       "      <td>True</td>\n",
       "      <td>False</td>\n",
       "      <td>False</td>\n",
       "      <td>False</td>\n",
       "      <td>False</td>\n",
       "      <td>...</td>\n",
       "      <td>False</td>\n",
       "      <td>False</td>\n",
       "      <td>False</td>\n",
       "      <td>True</td>\n",
       "      <td>False</td>\n",
       "      <td>False</td>\n",
       "      <td>True</td>\n",
       "      <td>False</td>\n",
       "      <td>True</td>\n",
       "      <td>False</td>\n",
       "    </tr>\n",
       "    <tr>\n",
       "      <th>4</th>\n",
       "      <td>0.148148</td>\n",
       "      <td>-0.50</td>\n",
       "      <td>1.795276</td>\n",
       "      <td>0.307692</td>\n",
       "      <td>-0.1250</td>\n",
       "      <td>False</td>\n",
       "      <td>True</td>\n",
       "      <td>False</td>\n",
       "      <td>False</td>\n",
       "      <td>False</td>\n",
       "      <td>...</td>\n",
       "      <td>False</td>\n",
       "      <td>False</td>\n",
       "      <td>False</td>\n",
       "      <td>True</td>\n",
       "      <td>False</td>\n",
       "      <td>False</td>\n",
       "      <td>True</td>\n",
       "      <td>False</td>\n",
       "      <td>True</td>\n",
       "      <td>False</td>\n",
       "    </tr>\n",
       "  </tbody>\n",
       "</table>\n",
       "<p>5 rows × 22 columns</p>\n",
       "</div>"
      ],
      "text/plain": [
       "        age  trtbps      chol  thalachh  oldpeak  sex_1  exng_1  caa_1  caa_2  \\\n",
       "0  0.592593    0.75 -0.110236 -0.092308   0.9375   True   False  False  False   \n",
       "1 -1.333333    0.00  0.157480  1.046154   1.6875   True   False  False  False   \n",
       "2 -1.037037    0.00 -0.566929  0.584615   0.3750  False   False  False  False   \n",
       "3  0.074074   -0.50 -0.062992  0.769231   0.0000   True   False  False  False   \n",
       "4  0.148148   -0.50  1.795276  0.307692  -0.1250  False    True  False  False   \n",
       "\n",
       "   caa_3  ...   cp_2   cp_3  fbs_1  restecg_1  restecg_2  slp_1  slp_2  \\\n",
       "0  False  ...  False   True   True      False      False  False  False   \n",
       "1  False  ...   True  False  False       True      False  False  False   \n",
       "2  False  ...  False  False  False      False      False  False   True   \n",
       "3  False  ...  False  False  False       True      False  False   True   \n",
       "4  False  ...  False  False  False       True      False  False   True   \n",
       "\n",
       "   thall_1  thall_2  thall_3  \n",
       "0     True    False    False  \n",
       "1    False     True    False  \n",
       "2    False     True    False  \n",
       "3    False     True    False  \n",
       "4    False     True    False  \n",
       "\n",
       "[5 rows x 22 columns]"
      ]
     },
     "execution_count": 4,
     "metadata": {},
     "output_type": "execute_result"
    }
   ],
   "source": [
    "# creating a copy of df\n",
    "df1 = df\n",
    "\n",
    "# define the columns to be encoded and scaled\n",
    "cat_cols = ['sex','exng','caa','cp','fbs','restecg','slp','thall']\n",
    "con_cols = [\"age\",\"trtbps\",\"chol\",\"thalachh\",\"oldpeak\"]\n",
    "\n",
    "# encoding the categorical columns\n",
    "df1 = pd.get_dummies(df1, columns = cat_cols, drop_first = True)\n",
    "\n",
    "# defining the features and target\n",
    "X = df1.drop(['output'],axis=1)\n",
    "y = df1[['output']]\n",
    "\n",
    "# instantiating the scaler\n",
    "scaler = RobustScaler()\n",
    "\n",
    "# scaling the continuous featuree\n",
    "X[con_cols] = scaler.fit_transform(X[con_cols])\n",
    "print(\"The first 5 rows of X are\")\n",
    "X.head()"
   ]
  },
  {
   "cell_type": "code",
   "execution_count": 5,
   "metadata": {},
   "outputs": [],
   "source": [
    "X_train, X_test, y_train, y_test = train_test_split(X,y, test_size = 0.2, random_state = 42)"
   ]
  },
  {
   "cell_type": "code",
   "execution_count": 6,
   "metadata": {},
   "outputs": [
    {
     "data": {
      "text/html": [
       "<div>\n",
       "<style scoped>\n",
       "    .dataframe tbody tr th:only-of-type {\n",
       "        vertical-align: middle;\n",
       "    }\n",
       "\n",
       "    .dataframe tbody tr th {\n",
       "        vertical-align: top;\n",
       "    }\n",
       "\n",
       "    .dataframe thead th {\n",
       "        text-align: right;\n",
       "    }\n",
       "</style>\n",
       "<table border=\"1\" class=\"dataframe\">\n",
       "  <thead>\n",
       "    <tr style=\"text-align: right;\">\n",
       "      <th></th>\n",
       "      <th>age</th>\n",
       "      <th>trtbps</th>\n",
       "      <th>chol</th>\n",
       "      <th>thalachh</th>\n",
       "      <th>oldpeak</th>\n",
       "      <th>sex_1</th>\n",
       "      <th>exng_1</th>\n",
       "      <th>caa_1</th>\n",
       "      <th>caa_2</th>\n",
       "      <th>caa_3</th>\n",
       "      <th>...</th>\n",
       "      <th>cp_2</th>\n",
       "      <th>cp_3</th>\n",
       "      <th>fbs_1</th>\n",
       "      <th>restecg_1</th>\n",
       "      <th>restecg_2</th>\n",
       "      <th>slp_1</th>\n",
       "      <th>slp_2</th>\n",
       "      <th>thall_1</th>\n",
       "      <th>thall_2</th>\n",
       "      <th>thall_3</th>\n",
       "    </tr>\n",
       "  </thead>\n",
       "  <tbody>\n",
       "    <tr>\n",
       "      <th>132</th>\n",
       "      <td>-0.962963</td>\n",
       "      <td>-0.50</td>\n",
       "      <td>0.866142</td>\n",
       "      <td>0.276923</td>\n",
       "      <td>-0.500</td>\n",
       "      <td>True</td>\n",
       "      <td>False</td>\n",
       "      <td>False</td>\n",
       "      <td>False</td>\n",
       "      <td>False</td>\n",
       "      <td>...</td>\n",
       "      <td>False</td>\n",
       "      <td>False</td>\n",
       "      <td>False</td>\n",
       "      <td>True</td>\n",
       "      <td>False</td>\n",
       "      <td>False</td>\n",
       "      <td>True</td>\n",
       "      <td>False</td>\n",
       "      <td>True</td>\n",
       "      <td>False</td>\n",
       "    </tr>\n",
       "    <tr>\n",
       "      <th>202</th>\n",
       "      <td>0.222222</td>\n",
       "      <td>1.00</td>\n",
       "      <td>0.472441</td>\n",
       "      <td>-1.292308</td>\n",
       "      <td>0.000</td>\n",
       "      <td>True</td>\n",
       "      <td>True</td>\n",
       "      <td>False</td>\n",
       "      <td>False</td>\n",
       "      <td>False</td>\n",
       "      <td>...</td>\n",
       "      <td>False</td>\n",
       "      <td>False</td>\n",
       "      <td>False</td>\n",
       "      <td>False</td>\n",
       "      <td>False</td>\n",
       "      <td>False</td>\n",
       "      <td>True</td>\n",
       "      <td>False</td>\n",
       "      <td>False</td>\n",
       "      <td>True</td>\n",
       "    </tr>\n",
       "    <tr>\n",
       "      <th>196</th>\n",
       "      <td>-0.666667</td>\n",
       "      <td>1.00</td>\n",
       "      <td>-0.141732</td>\n",
       "      <td>-0.184615</td>\n",
       "      <td>1.750</td>\n",
       "      <td>True</td>\n",
       "      <td>False</td>\n",
       "      <td>False</td>\n",
       "      <td>False</td>\n",
       "      <td>False</td>\n",
       "      <td>...</td>\n",
       "      <td>True</td>\n",
       "      <td>False</td>\n",
       "      <td>False</td>\n",
       "      <td>True</td>\n",
       "      <td>False</td>\n",
       "      <td>True</td>\n",
       "      <td>False</td>\n",
       "      <td>False</td>\n",
       "      <td>True</td>\n",
       "      <td>False</td>\n",
       "    </tr>\n",
       "    <tr>\n",
       "      <th>75</th>\n",
       "      <td>0.000000</td>\n",
       "      <td>0.25</td>\n",
       "      <td>0.157480</td>\n",
       "      <td>0.246154</td>\n",
       "      <td>0.375</td>\n",
       "      <td>False</td>\n",
       "      <td>False</td>\n",
       "      <td>False</td>\n",
       "      <td>False</td>\n",
       "      <td>False</td>\n",
       "      <td>...</td>\n",
       "      <td>False</td>\n",
       "      <td>False</td>\n",
       "      <td>False</td>\n",
       "      <td>False</td>\n",
       "      <td>False</td>\n",
       "      <td>True</td>\n",
       "      <td>False</td>\n",
       "      <td>False</td>\n",
       "      <td>True</td>\n",
       "      <td>False</td>\n",
       "    </tr>\n",
       "    <tr>\n",
       "      <th>176</th>\n",
       "      <td>0.370370</td>\n",
       "      <td>-0.65</td>\n",
       "      <td>-0.157480</td>\n",
       "      <td>0.215385</td>\n",
       "      <td>0.375</td>\n",
       "      <td>True</td>\n",
       "      <td>True</td>\n",
       "      <td>False</td>\n",
       "      <td>True</td>\n",
       "      <td>False</td>\n",
       "      <td>...</td>\n",
       "      <td>False</td>\n",
       "      <td>False</td>\n",
       "      <td>True</td>\n",
       "      <td>True</td>\n",
       "      <td>False</td>\n",
       "      <td>False</td>\n",
       "      <td>True</td>\n",
       "      <td>False</td>\n",
       "      <td>False</td>\n",
       "      <td>True</td>\n",
       "    </tr>\n",
       "  </tbody>\n",
       "</table>\n",
       "<p>5 rows × 22 columns</p>\n",
       "</div>"
      ],
      "text/plain": [
       "          age  trtbps      chol  thalachh  oldpeak  sex_1  exng_1  caa_1  \\\n",
       "132 -0.962963   -0.50  0.866142  0.276923   -0.500   True   False  False   \n",
       "202  0.222222    1.00  0.472441 -1.292308    0.000   True    True  False   \n",
       "196 -0.666667    1.00 -0.141732 -0.184615    1.750   True   False  False   \n",
       "75   0.000000    0.25  0.157480  0.246154    0.375  False   False  False   \n",
       "176  0.370370   -0.65 -0.157480  0.215385    0.375   True    True  False   \n",
       "\n",
       "     caa_2  caa_3  ...   cp_2   cp_3  fbs_1  restecg_1  restecg_2  slp_1  \\\n",
       "132  False  False  ...  False  False  False       True      False  False   \n",
       "202  False  False  ...  False  False  False      False      False  False   \n",
       "196  False  False  ...   True  False  False       True      False   True   \n",
       "75   False  False  ...  False  False  False      False      False   True   \n",
       "176   True  False  ...  False  False   True       True      False  False   \n",
       "\n",
       "     slp_2  thall_1  thall_2  thall_3  \n",
       "132   True    False     True    False  \n",
       "202   True    False    False     True  \n",
       "196  False    False     True    False  \n",
       "75   False    False     True    False  \n",
       "176   True    False    False     True  \n",
       "\n",
       "[5 rows x 22 columns]"
      ]
     },
     "execution_count": 6,
     "metadata": {},
     "output_type": "execute_result"
    }
   ],
   "source": [
    "X_train.head()"
   ]
  },
  {
   "cell_type": "code",
   "execution_count": 9,
   "metadata": {},
   "outputs": [],
   "source": [
    "from sdv.metadata import SingleTableMetadata"
   ]
  },
  {
   "cell_type": "code",
   "execution_count": 10,
   "metadata": {},
   "outputs": [],
   "source": [
    "sdv_data = pd.concat([X_train,y_train],axis=1)"
   ]
  },
  {
   "cell_type": "code",
   "execution_count": 11,
   "metadata": {},
   "outputs": [],
   "source": [
    "metadata = SingleTableMetadata()\n",
    "\n",
    "metadata.detect_from_dataframe(sdv_data)"
   ]
  },
  {
   "cell_type": "code",
   "execution_count": 12,
   "metadata": {},
   "outputs": [
    {
     "data": {
      "image/svg+xml": [
       "<?xml version=\"1.0\" encoding=\"UTF-8\" standalone=\"no\"?>\n",
       "<!DOCTYPE svg PUBLIC \"-//W3C//DTD SVG 1.1//EN\"\n",
       " \"http://www.w3.org/Graphics/SVG/1.1/DTD/svg11.dtd\">\n",
       "<!-- Generated by graphviz version 9.0.0 (20230911.1827)\n",
       " -->\n",
       "<!-- Title: Metadata Pages: 1 -->\n",
       "<svg width=\"149pt\" height=\"379pt\"\n",
       " viewBox=\"0.00 0.00 148.50 379.25\" xmlns=\"http://www.w3.org/2000/svg\" xmlns:xlink=\"http://www.w3.org/1999/xlink\">\n",
       "<g id=\"graph0\" class=\"graph\" transform=\"scale(1 1) rotate(0) translate(4 375.25)\">\n",
       "<title>Metadata</title>\n",
       "<polygon fill=\"white\" stroke=\"none\" points=\"-4,4 -4,-375.25 144.5,-375.25 144.5,4 -4,4\"/>\n",
       "<g id=\"node1\" class=\"node\">\n",
       "<title></title>\n",
       "<path fill=\"#ffec8b\" stroke=\"black\" d=\"M12,-0.5C12,-0.5 128.5,-0.5 128.5,-0.5 134.5,-0.5 140.5,-6.5 140.5,-12.5 140.5,-12.5 140.5,-358.75 140.5,-358.75 140.5,-364.75 134.5,-370.75 128.5,-370.75 128.5,-370.75 12,-370.75 12,-370.75 6,-370.75 0,-364.75 0,-358.75 0,-358.75 0,-12.5 0,-12.5 0,-6.5 6,-0.5 12,-0.5\"/>\n",
       "<text text-anchor=\"start\" x=\"8\" y=\"-353.45\" font-family=\"Times New Roman,serif\" font-size=\"14.00\">age : numerical</text>\n",
       "<text text-anchor=\"start\" x=\"8\" y=\"-337.7\" font-family=\"Times New Roman,serif\" font-size=\"14.00\">trtbps : numerical</text>\n",
       "<text text-anchor=\"start\" x=\"8\" y=\"-321.95\" font-family=\"Times New Roman,serif\" font-size=\"14.00\">chol : numerical</text>\n",
       "<text text-anchor=\"start\" x=\"8\" y=\"-306.2\" font-family=\"Times New Roman,serif\" font-size=\"14.00\">thalachh : numerical</text>\n",
       "<text text-anchor=\"start\" x=\"8\" y=\"-290.45\" font-family=\"Times New Roman,serif\" font-size=\"14.00\">oldpeak : numerical</text>\n",
       "<text text-anchor=\"start\" x=\"8\" y=\"-274.7\" font-family=\"Times New Roman,serif\" font-size=\"14.00\">sex_1 : categorical</text>\n",
       "<text text-anchor=\"start\" x=\"8\" y=\"-258.95\" font-family=\"Times New Roman,serif\" font-size=\"14.00\">exng_1 : categorical</text>\n",
       "<text text-anchor=\"start\" x=\"8\" y=\"-243.2\" font-family=\"Times New Roman,serif\" font-size=\"14.00\">caa_1 : categorical</text>\n",
       "<text text-anchor=\"start\" x=\"8\" y=\"-227.45\" font-family=\"Times New Roman,serif\" font-size=\"14.00\">caa_2 : categorical</text>\n",
       "<text text-anchor=\"start\" x=\"8\" y=\"-211.7\" font-family=\"Times New Roman,serif\" font-size=\"14.00\">caa_3 : categorical</text>\n",
       "<text text-anchor=\"start\" x=\"8\" y=\"-195.95\" font-family=\"Times New Roman,serif\" font-size=\"14.00\">caa_4 : categorical</text>\n",
       "<text text-anchor=\"start\" x=\"8\" y=\"-180.2\" font-family=\"Times New Roman,serif\" font-size=\"14.00\">cp_1 : categorical</text>\n",
       "<text text-anchor=\"start\" x=\"8\" y=\"-164.45\" font-family=\"Times New Roman,serif\" font-size=\"14.00\">cp_2 : categorical</text>\n",
       "<text text-anchor=\"start\" x=\"8\" y=\"-148.7\" font-family=\"Times New Roman,serif\" font-size=\"14.00\">cp_3 : categorical</text>\n",
       "<text text-anchor=\"start\" x=\"8\" y=\"-132.95\" font-family=\"Times New Roman,serif\" font-size=\"14.00\">fbs_1 : categorical</text>\n",
       "<text text-anchor=\"start\" x=\"8\" y=\"-117.2\" font-family=\"Times New Roman,serif\" font-size=\"14.00\">restecg_1 : categorical</text>\n",
       "<text text-anchor=\"start\" x=\"8\" y=\"-101.45\" font-family=\"Times New Roman,serif\" font-size=\"14.00\">restecg_2 : categorical</text>\n",
       "<text text-anchor=\"start\" x=\"8\" y=\"-85.7\" font-family=\"Times New Roman,serif\" font-size=\"14.00\">slp_1 : categorical</text>\n",
       "<text text-anchor=\"start\" x=\"8\" y=\"-69.95\" font-family=\"Times New Roman,serif\" font-size=\"14.00\">slp_2 : categorical</text>\n",
       "<text text-anchor=\"start\" x=\"8\" y=\"-54.2\" font-family=\"Times New Roman,serif\" font-size=\"14.00\">thall_1 : categorical</text>\n",
       "<text text-anchor=\"start\" x=\"8\" y=\"-38.45\" font-family=\"Times New Roman,serif\" font-size=\"14.00\">thall_2 : categorical</text>\n",
       "<text text-anchor=\"start\" x=\"8\" y=\"-22.7\" font-family=\"Times New Roman,serif\" font-size=\"14.00\">thall_3 : categorical</text>\n",
       "<text text-anchor=\"start\" x=\"8\" y=\"-6.95\" font-family=\"Times New Roman,serif\" font-size=\"14.00\">output : categorical</text>\n",
       "</g>\n",
       "</g>\n",
       "</svg>\n"
      ],
      "text/plain": [
       "<graphviz.graphs.Digraph at 0x1ac40fa7fd0>"
      ]
     },
     "execution_count": 12,
     "metadata": {},
     "output_type": "execute_result"
    }
   ],
   "source": [
    "metadata.visualize()"
   ]
  },
  {
   "cell_type": "code",
   "execution_count": 13,
   "metadata": {},
   "outputs": [],
   "source": [
    "from sdv.single_table import GaussianCopulaSynthesizer\n"
   ]
  },
  {
   "cell_type": "code",
   "execution_count": 14,
   "metadata": {},
   "outputs": [],
   "source": [
    "synthesizer = GaussianCopulaSynthesizer(metadata, default_distribution='norm')\n"
   ]
  },
  {
   "cell_type": "code",
   "execution_count": 15,
   "metadata": {},
   "outputs": [],
   "source": [
    "synthesizer.fit(sdv_data)"
   ]
  },
  {
   "cell_type": "code",
   "execution_count": 16,
   "metadata": {},
   "outputs": [],
   "source": [
    "synthetic_data = synthesizer.sample(num_rows=242)"
   ]
  },
  {
   "cell_type": "code",
   "execution_count": 17,
   "metadata": {},
   "outputs": [
    {
     "name": "stdout",
     "output_type": "stream",
     "text": [
      "Generating report ...\n",
      "\n",
      "(1/2) Evaluating Column Shapes: |██████████| 23/23 [00:00<00:00, 1152.35it/s]|\n",
      "Column Shapes Score: 94.7%\n",
      "\n",
      "(2/2) Evaluating Column Pair Trends: |██████████| 253/253 [00:02<00:00, 103.16it/s]|\n",
      "Column Pair Trends Score: 60.0%\n",
      "\n",
      "Overall Score (Average): 77.35%\n",
      "\n"
     ]
    }
   ],
   "source": [
    "from sdv.evaluation.single_table import evaluate_quality\n",
    "\n",
    "quality_report = evaluate_quality(\n",
    "    real_data=sdv_data,\n",
    "    synthetic_data=synthetic_data,\n",
    "    metadata=metadata)"
   ]
  },
  {
   "cell_type": "code",
   "execution_count": 18,
   "metadata": {},
   "outputs": [
    {
     "data": {
      "application/vnd.plotly.v1+json": {
       "config": {
        "plotlyServerURL": "https://plot.ly"
       },
       "data": [
        {
         "coloraxis": "coloraxis",
         "hovertemplate": "<b>Column Pair</b><br>(%{x},%{y})<br><br>Similarity: %{z}<extra></extra>",
         "type": "heatmap",
         "x": [
          "age",
          "trtbps",
          "chol",
          "thalachh",
          "oldpeak",
          "sex_1",
          "exng_1",
          "caa_1",
          "caa_2",
          "caa_3",
          "caa_4",
          "cp_1",
          "cp_2",
          "cp_3",
          "fbs_1",
          "restecg_1",
          "restecg_2",
          "slp_1",
          "slp_2",
          "thall_1",
          "thall_2",
          "thall_3",
          "output"
         ],
         "xaxis": "x",
         "y": [
          "age",
          "trtbps",
          "chol",
          "thalachh",
          "oldpeak",
          "sex_1",
          "exng_1",
          "caa_1",
          "caa_2",
          "caa_3",
          "caa_4",
          "cp_1",
          "cp_2",
          "cp_3",
          "fbs_1",
          "restecg_1",
          "restecg_2",
          "slp_1",
          "slp_2",
          "thall_1",
          "thall_2",
          "thall_3",
          "output"
         ],
         "yaxis": "y",
         "z": [
          [
           1,
           0.959,
           0.969,
           0.975,
           0.958,
           0,
           0,
           0,
           0,
           0,
           0,
           0,
           0,
           0,
           0,
           0,
           0,
           0,
           0,
           0,
           0,
           0,
           0
          ],
          [
           0.959,
           1,
           0.983,
           0.953,
           0.966,
           0,
           0,
           0,
           0,
           0,
           0,
           0,
           0,
           0,
           0,
           0,
           0,
           0,
           0,
           0,
           0,
           0,
           0
          ],
          [
           0.969,
           0.983,
           1,
           0.954,
           0.999,
           0,
           0,
           0,
           0,
           0,
           0,
           0,
           0,
           0,
           0,
           0,
           0,
           0,
           0,
           0,
           0,
           0,
           0
          ],
          [
           0.975,
           0.953,
           0.954,
           1,
           0.996,
           0,
           0,
           0,
           0,
           0,
           0,
           0,
           0,
           0,
           0,
           0,
           0,
           0,
           0,
           0,
           0,
           0,
           0
          ],
          [
           0.958,
           0.966,
           0.999,
           0.996,
           1,
           0,
           0,
           0,
           0,
           0,
           0,
           0,
           0,
           0,
           0,
           0,
           0,
           0,
           0,
           0,
           0,
           0,
           0
          ],
          [
           0,
           0,
           0,
           0,
           0,
           1,
           0.864,
           0.913,
           0.926,
           0.946,
           0.921,
           0.909,
           0.946,
           0.942,
           0.901,
           0.946,
           0.946,
           0.942,
           0.946,
           0.942,
           0.826,
           0.851,
           0.926
          ],
          [
           0,
           0,
           0,
           0,
           0,
           0.864,
           1,
           0.868,
           0.868,
           0.868,
           0.851,
           0.802,
           0.855,
           0.86,
           0.831,
           0.868,
           0.868,
           0.868,
           0.868,
           0.868,
           0.868,
           0.868,
           0.868
          ],
          [
           0,
           0,
           0,
           0,
           0,
           0.913,
           0.868,
           1,
           0.942,
           0.959,
           0.934,
           0.913,
           0.959,
           0.963,
           0.917,
           0.95,
           0.963,
           0.963,
           0.963,
           0.963,
           0.946,
           0.938,
           0.917
          ],
          [
           0,
           0,
           0,
           0,
           0,
           0.926,
           0.868,
           0.942,
           1,
           0.963,
           0.934,
           0.921,
           0.917,
           0.979,
           0.926,
           0.967,
           0.975,
           0.921,
           0.971,
           0.979,
           0.946,
           0.946,
           0.909
          ],
          [
           0,
           0,
           0,
           0,
           0,
           0.946,
           0.868,
           0.959,
           0.963,
           1,
           0.93,
           0.917,
           0.955,
           0.992,
           0.946,
           0.959,
           0.975,
           0.967,
           0.992,
           0.975,
           0.946,
           0.946,
           0.946
          ],
          [
           0,
           0,
           0,
           0,
           0,
           0.921,
           0.851,
           0.934,
           0.934,
           0.93,
           1,
           0.934,
           0.934,
           0.93,
           0.934,
           0.934,
           0.917,
           0.934,
           0.934,
           0.926,
           0.926,
           0.926,
           0.934
          ],
          [
           0,
           0,
           0,
           0,
           0,
           0.909,
           0.802,
           0.913,
           0.921,
           0.917,
           0.934,
           1,
           0.839,
           0.938,
           0.897,
           0.942,
           0.93,
           0.938,
           0.926,
           0.942,
           0.909,
           0.901,
           0.938
          ],
          [
           0,
           0,
           0,
           0,
           0,
           0.946,
           0.855,
           0.959,
           0.917,
           0.955,
           0.934,
           0.839,
           1,
           0.938,
           0.946,
           0.967,
           0.971,
           0.971,
           0.971,
           0.967,
           0.909,
           0.901,
           0.917
          ],
          [
           0,
           0,
           0,
           0,
           0,
           0.942,
           0.86,
           0.963,
           0.979,
           0.992,
           0.93,
           0.938,
           0.938,
           1,
           0.946,
           0.959,
           0.979,
           0.975,
           0.988,
           0.983,
           0.946,
           0.942,
           0.971
          ],
          [
           0,
           0,
           0,
           0,
           0,
           0.901,
           0.831,
           0.917,
           0.926,
           0.946,
           0.934,
           0.897,
           0.946,
           0.946,
           1,
           0.946,
           0.938,
           0.946,
           0.946,
           0.946,
           0.93,
           0.926,
           0.946
          ],
          [
           0,
           0,
           0,
           0,
           0,
           0.946,
           0.868,
           0.95,
           0.967,
           0.959,
           0.934,
           0.942,
           0.967,
           0.959,
           0.946,
           1,
           0.95,
           0.942,
           0.959,
           0.967,
           0.946,
           0.946,
           0.971
          ],
          [
           0,
           0,
           0,
           0,
           0,
           0.946,
           0.868,
           0.963,
           0.975,
           0.975,
           0.917,
           0.93,
           0.971,
           0.979,
           0.938,
           0.95,
           1,
           0.963,
           0.983,
           0.967,
           0.946,
           0.946,
           0.971
          ],
          [
           0,
           0,
           0,
           0,
           0,
           0.942,
           0.868,
           0.963,
           0.921,
           0.967,
           0.934,
           0.938,
           0.971,
           0.975,
           0.946,
           0.942,
           0.963,
           1,
           0.818,
           0.959,
           0.905,
           0.93,
           0.888
          ],
          [
           0,
           0,
           0,
           0,
           0,
           0.946,
           0.868,
           0.963,
           0.971,
           0.992,
           0.934,
           0.926,
           0.971,
           0.988,
           0.946,
           0.959,
           0.983,
           0.818,
           1,
           0.942,
           0.897,
           0.905,
           0.806
          ],
          [
           0,
           0,
           0,
           0,
           0,
           0.942,
           0.868,
           0.963,
           0.979,
           0.975,
           0.926,
           0.942,
           0.967,
           0.983,
           0.946,
           0.967,
           0.967,
           0.959,
           0.942,
           1,
           0.946,
           0.938,
           0.971
          ],
          [
           0,
           0,
           0,
           0,
           0,
           0.826,
           0.868,
           0.946,
           0.946,
           0.946,
           0.926,
           0.909,
           0.909,
           0.946,
           0.93,
           0.946,
           0.946,
           0.905,
           0.897,
           0.946,
           1,
           0.785,
           0.909
          ],
          [
           0,
           0,
           0,
           0,
           0,
           0.851,
           0.868,
           0.938,
           0.946,
           0.946,
           0.926,
           0.901,
           0.901,
           0.942,
           0.926,
           0.946,
           0.946,
           0.93,
           0.905,
           0.938,
           0.785,
           1,
           0.876
          ],
          [
           0,
           0,
           0,
           0,
           0,
           0.926,
           0.868,
           0.917,
           0.909,
           0.946,
           0.934,
           0.938,
           0.917,
           0.971,
           0.946,
           0.971,
           0.971,
           0.888,
           0.806,
           0.971,
           0.909,
           0.876,
           1
          ]
         ]
        },
        {
         "coloraxis": "coloraxis2",
         "customdata": [
          [
           1,
           0.368,
           0.294,
           -0.447,
           0.118
          ],
          [
           0.368,
           1,
           0.114,
           -0.132,
           0.201
          ],
          [
           0.294,
           0.114,
           1,
           -0.08,
           0.114
          ],
          [
           -0.447,
           -0.132,
           -0.08,
           1,
           -0.337
          ],
          [
           0.118,
           0.201,
           0.114,
           -0.337,
           1
          ]
         ],
         "hovertemplate": "<b>Correlation</b><br>(%{x},%{y})<br><br>Synthetic: %{z}<br>(vs. Real: %{customdata})<extra></extra>",
         "type": "heatmap",
         "x": [
          "age",
          "trtbps",
          "chol",
          "thalachh",
          "oldpeak"
         ],
         "xaxis": "x2",
         "y": [
          "age",
          "trtbps",
          "chol",
          "thalachh",
          "oldpeak"
         ],
         "yaxis": "y2",
         "z": [
          [
           1,
           0.285,
           0.232,
           -0.396,
           0.202
          ],
          [
           0.285,
           1,
           0.148,
           -0.038,
           0.132
          ],
          [
           0.232,
           0.148,
           1,
           0.013,
           0.111
          ],
          [
           -0.396,
           -0.038,
           0.013,
           1,
           -0.345
          ],
          [
           0.202,
           0.132,
           0.111,
           -0.345,
           1
          ]
         ]
        },
        {
         "coloraxis": "coloraxis2",
         "customdata": [
          [
           1,
           0.285,
           0.232,
           -0.396,
           0.202
          ],
          [
           0.285,
           1,
           0.148,
           -0.038,
           0.132
          ],
          [
           0.232,
           0.148,
           1,
           0.013,
           0.111
          ],
          [
           -0.396,
           -0.038,
           0.013,
           1,
           -0.345
          ],
          [
           0.202,
           0.132,
           0.111,
           -0.345,
           1
          ]
         ],
         "hovertemplate": "<b>Correlation</b><br>(%{x},%{y})<br><br>Synthetic: %{z}<br>(vs. Real: %{customdata})<extra></extra>",
         "type": "heatmap",
         "x": [
          "age",
          "trtbps",
          "chol",
          "thalachh",
          "oldpeak"
         ],
         "xaxis": "x3",
         "y": [
          "age",
          "trtbps",
          "chol",
          "thalachh",
          "oldpeak"
         ],
         "yaxis": "y3",
         "z": [
          [
           1,
           0.368,
           0.294,
           -0.447,
           0.118
          ],
          [
           0.368,
           1,
           0.114,
           -0.132,
           0.201
          ],
          [
           0.294,
           0.114,
           1,
           -0.08,
           0.114
          ],
          [
           -0.447,
           -0.132,
           -0.08,
           1,
           -0.337
          ],
          [
           0.118,
           0.201,
           0.114,
           -0.337,
           1
          ]
         ]
        }
       ],
       "layout": {
        "annotations": [
         {
          "font": {
           "size": 16
          },
          "showarrow": false,
          "text": "Real vs. Synthetic Similarity",
          "x": 0.5,
          "xanchor": "center",
          "xref": "paper",
          "y": 1,
          "yanchor": "bottom",
          "yref": "paper"
         },
         {
          "font": {
           "size": 16
          },
          "showarrow": false,
          "text": "Numerical Correlation (Real Data)",
          "x": 0.225,
          "xanchor": "center",
          "xref": "paper",
          "y": 0.375,
          "yanchor": "bottom",
          "yref": "paper"
         },
         {
          "font": {
           "size": 16
          },
          "showarrow": false,
          "text": "Numerical Correlation (Synthetic Data)",
          "x": 0.775,
          "xanchor": "center",
          "xref": "paper",
          "y": 0.375,
          "yanchor": "bottom",
          "yref": "paper"
         }
        ],
        "coloraxis": {
         "cmax": 1,
         "cmin": 0,
         "colorbar": {
          "len": 0.5,
          "x": 0.8,
          "y": 0.8
         },
         "colorscale": [
          [
           0,
           "#FF0000"
          ],
          [
           0.5,
           "#F16141"
          ],
          [
           1,
           "#36B37E"
          ]
         ]
        },
        "coloraxis2": {
         "cmax": 1,
         "cmin": -1,
         "colorbar": {
          "len": 0.5,
          "y": 0.2
         },
         "colorscale": [
          [
           0,
           "#03AFF1"
          ],
          [
           0.5,
           "#000036"
          ],
          [
           1,
           "#01E0C9"
          ]
         ]
        },
        "font": {
         "size": 18
        },
        "height": 900,
        "template": {
         "data": {
          "bar": [
           {
            "error_x": {
             "color": "#2a3f5f"
            },
            "error_y": {
             "color": "#2a3f5f"
            },
            "marker": {
             "line": {
              "color": "#E5ECF6",
              "width": 0.5
             },
             "pattern": {
              "fillmode": "overlay",
              "size": 10,
              "solidity": 0.2
             }
            },
            "type": "bar"
           }
          ],
          "barpolar": [
           {
            "marker": {
             "line": {
              "color": "#E5ECF6",
              "width": 0.5
             },
             "pattern": {
              "fillmode": "overlay",
              "size": 10,
              "solidity": 0.2
             }
            },
            "type": "barpolar"
           }
          ],
          "carpet": [
           {
            "aaxis": {
             "endlinecolor": "#2a3f5f",
             "gridcolor": "white",
             "linecolor": "white",
             "minorgridcolor": "white",
             "startlinecolor": "#2a3f5f"
            },
            "baxis": {
             "endlinecolor": "#2a3f5f",
             "gridcolor": "white",
             "linecolor": "white",
             "minorgridcolor": "white",
             "startlinecolor": "#2a3f5f"
            },
            "type": "carpet"
           }
          ],
          "choropleth": [
           {
            "colorbar": {
             "outlinewidth": 0,
             "ticks": ""
            },
            "type": "choropleth"
           }
          ],
          "contour": [
           {
            "colorbar": {
             "outlinewidth": 0,
             "ticks": ""
            },
            "colorscale": [
             [
              0,
              "#0d0887"
             ],
             [
              0.1111111111111111,
              "#46039f"
             ],
             [
              0.2222222222222222,
              "#7201a8"
             ],
             [
              0.3333333333333333,
              "#9c179e"
             ],
             [
              0.4444444444444444,
              "#bd3786"
             ],
             [
              0.5555555555555556,
              "#d8576b"
             ],
             [
              0.6666666666666666,
              "#ed7953"
             ],
             [
              0.7777777777777778,
              "#fb9f3a"
             ],
             [
              0.8888888888888888,
              "#fdca26"
             ],
             [
              1,
              "#f0f921"
             ]
            ],
            "type": "contour"
           }
          ],
          "contourcarpet": [
           {
            "colorbar": {
             "outlinewidth": 0,
             "ticks": ""
            },
            "type": "contourcarpet"
           }
          ],
          "heatmap": [
           {
            "colorbar": {
             "outlinewidth": 0,
             "ticks": ""
            },
            "colorscale": [
             [
              0,
              "#0d0887"
             ],
             [
              0.1111111111111111,
              "#46039f"
             ],
             [
              0.2222222222222222,
              "#7201a8"
             ],
             [
              0.3333333333333333,
              "#9c179e"
             ],
             [
              0.4444444444444444,
              "#bd3786"
             ],
             [
              0.5555555555555556,
              "#d8576b"
             ],
             [
              0.6666666666666666,
              "#ed7953"
             ],
             [
              0.7777777777777778,
              "#fb9f3a"
             ],
             [
              0.8888888888888888,
              "#fdca26"
             ],
             [
              1,
              "#f0f921"
             ]
            ],
            "type": "heatmap"
           }
          ],
          "heatmapgl": [
           {
            "colorbar": {
             "outlinewidth": 0,
             "ticks": ""
            },
            "colorscale": [
             [
              0,
              "#0d0887"
             ],
             [
              0.1111111111111111,
              "#46039f"
             ],
             [
              0.2222222222222222,
              "#7201a8"
             ],
             [
              0.3333333333333333,
              "#9c179e"
             ],
             [
              0.4444444444444444,
              "#bd3786"
             ],
             [
              0.5555555555555556,
              "#d8576b"
             ],
             [
              0.6666666666666666,
              "#ed7953"
             ],
             [
              0.7777777777777778,
              "#fb9f3a"
             ],
             [
              0.8888888888888888,
              "#fdca26"
             ],
             [
              1,
              "#f0f921"
             ]
            ],
            "type": "heatmapgl"
           }
          ],
          "histogram": [
           {
            "marker": {
             "pattern": {
              "fillmode": "overlay",
              "size": 10,
              "solidity": 0.2
             }
            },
            "type": "histogram"
           }
          ],
          "histogram2d": [
           {
            "colorbar": {
             "outlinewidth": 0,
             "ticks": ""
            },
            "colorscale": [
             [
              0,
              "#0d0887"
             ],
             [
              0.1111111111111111,
              "#46039f"
             ],
             [
              0.2222222222222222,
              "#7201a8"
             ],
             [
              0.3333333333333333,
              "#9c179e"
             ],
             [
              0.4444444444444444,
              "#bd3786"
             ],
             [
              0.5555555555555556,
              "#d8576b"
             ],
             [
              0.6666666666666666,
              "#ed7953"
             ],
             [
              0.7777777777777778,
              "#fb9f3a"
             ],
             [
              0.8888888888888888,
              "#fdca26"
             ],
             [
              1,
              "#f0f921"
             ]
            ],
            "type": "histogram2d"
           }
          ],
          "histogram2dcontour": [
           {
            "colorbar": {
             "outlinewidth": 0,
             "ticks": ""
            },
            "colorscale": [
             [
              0,
              "#0d0887"
             ],
             [
              0.1111111111111111,
              "#46039f"
             ],
             [
              0.2222222222222222,
              "#7201a8"
             ],
             [
              0.3333333333333333,
              "#9c179e"
             ],
             [
              0.4444444444444444,
              "#bd3786"
             ],
             [
              0.5555555555555556,
              "#d8576b"
             ],
             [
              0.6666666666666666,
              "#ed7953"
             ],
             [
              0.7777777777777778,
              "#fb9f3a"
             ],
             [
              0.8888888888888888,
              "#fdca26"
             ],
             [
              1,
              "#f0f921"
             ]
            ],
            "type": "histogram2dcontour"
           }
          ],
          "mesh3d": [
           {
            "colorbar": {
             "outlinewidth": 0,
             "ticks": ""
            },
            "type": "mesh3d"
           }
          ],
          "parcoords": [
           {
            "line": {
             "colorbar": {
              "outlinewidth": 0,
              "ticks": ""
             }
            },
            "type": "parcoords"
           }
          ],
          "pie": [
           {
            "automargin": true,
            "type": "pie"
           }
          ],
          "scatter": [
           {
            "fillpattern": {
             "fillmode": "overlay",
             "size": 10,
             "solidity": 0.2
            },
            "type": "scatter"
           }
          ],
          "scatter3d": [
           {
            "line": {
             "colorbar": {
              "outlinewidth": 0,
              "ticks": ""
             }
            },
            "marker": {
             "colorbar": {
              "outlinewidth": 0,
              "ticks": ""
             }
            },
            "type": "scatter3d"
           }
          ],
          "scattercarpet": [
           {
            "marker": {
             "colorbar": {
              "outlinewidth": 0,
              "ticks": ""
             }
            },
            "type": "scattercarpet"
           }
          ],
          "scattergeo": [
           {
            "marker": {
             "colorbar": {
              "outlinewidth": 0,
              "ticks": ""
             }
            },
            "type": "scattergeo"
           }
          ],
          "scattergl": [
           {
            "marker": {
             "colorbar": {
              "outlinewidth": 0,
              "ticks": ""
             }
            },
            "type": "scattergl"
           }
          ],
          "scattermapbox": [
           {
            "marker": {
             "colorbar": {
              "outlinewidth": 0,
              "ticks": ""
             }
            },
            "type": "scattermapbox"
           }
          ],
          "scatterpolar": [
           {
            "marker": {
             "colorbar": {
              "outlinewidth": 0,
              "ticks": ""
             }
            },
            "type": "scatterpolar"
           }
          ],
          "scatterpolargl": [
           {
            "marker": {
             "colorbar": {
              "outlinewidth": 0,
              "ticks": ""
             }
            },
            "type": "scatterpolargl"
           }
          ],
          "scatterternary": [
           {
            "marker": {
             "colorbar": {
              "outlinewidth": 0,
              "ticks": ""
             }
            },
            "type": "scatterternary"
           }
          ],
          "surface": [
           {
            "colorbar": {
             "outlinewidth": 0,
             "ticks": ""
            },
            "colorscale": [
             [
              0,
              "#0d0887"
             ],
             [
              0.1111111111111111,
              "#46039f"
             ],
             [
              0.2222222222222222,
              "#7201a8"
             ],
             [
              0.3333333333333333,
              "#9c179e"
             ],
             [
              0.4444444444444444,
              "#bd3786"
             ],
             [
              0.5555555555555556,
              "#d8576b"
             ],
             [
              0.6666666666666666,
              "#ed7953"
             ],
             [
              0.7777777777777778,
              "#fb9f3a"
             ],
             [
              0.8888888888888888,
              "#fdca26"
             ],
             [
              1,
              "#f0f921"
             ]
            ],
            "type": "surface"
           }
          ],
          "table": [
           {
            "cells": {
             "fill": {
              "color": "#EBF0F8"
             },
             "line": {
              "color": "white"
             }
            },
            "header": {
             "fill": {
              "color": "#C8D4E3"
             },
             "line": {
              "color": "white"
             }
            },
            "type": "table"
           }
          ]
         },
         "layout": {
          "annotationdefaults": {
           "arrowcolor": "#2a3f5f",
           "arrowhead": 0,
           "arrowwidth": 1
          },
          "autotypenumbers": "strict",
          "coloraxis": {
           "colorbar": {
            "outlinewidth": 0,
            "ticks": ""
           }
          },
          "colorscale": {
           "diverging": [
            [
             0,
             "#8e0152"
            ],
            [
             0.1,
             "#c51b7d"
            ],
            [
             0.2,
             "#de77ae"
            ],
            [
             0.3,
             "#f1b6da"
            ],
            [
             0.4,
             "#fde0ef"
            ],
            [
             0.5,
             "#f7f7f7"
            ],
            [
             0.6,
             "#e6f5d0"
            ],
            [
             0.7,
             "#b8e186"
            ],
            [
             0.8,
             "#7fbc41"
            ],
            [
             0.9,
             "#4d9221"
            ],
            [
             1,
             "#276419"
            ]
           ],
           "sequential": [
            [
             0,
             "#0d0887"
            ],
            [
             0.1111111111111111,
             "#46039f"
            ],
            [
             0.2222222222222222,
             "#7201a8"
            ],
            [
             0.3333333333333333,
             "#9c179e"
            ],
            [
             0.4444444444444444,
             "#bd3786"
            ],
            [
             0.5555555555555556,
             "#d8576b"
            ],
            [
             0.6666666666666666,
             "#ed7953"
            ],
            [
             0.7777777777777778,
             "#fb9f3a"
            ],
            [
             0.8888888888888888,
             "#fdca26"
            ],
            [
             1,
             "#f0f921"
            ]
           ],
           "sequentialminus": [
            [
             0,
             "#0d0887"
            ],
            [
             0.1111111111111111,
             "#46039f"
            ],
            [
             0.2222222222222222,
             "#7201a8"
            ],
            [
             0.3333333333333333,
             "#9c179e"
            ],
            [
             0.4444444444444444,
             "#bd3786"
            ],
            [
             0.5555555555555556,
             "#d8576b"
            ],
            [
             0.6666666666666666,
             "#ed7953"
            ],
            [
             0.7777777777777778,
             "#fb9f3a"
            ],
            [
             0.8888888888888888,
             "#fdca26"
            ],
            [
             1,
             "#f0f921"
            ]
           ]
          },
          "colorway": [
           "#636efa",
           "#EF553B",
           "#00cc96",
           "#ab63fa",
           "#FFA15A",
           "#19d3f3",
           "#FF6692",
           "#B6E880",
           "#FF97FF",
           "#FECB52"
          ],
          "font": {
           "color": "#2a3f5f"
          },
          "geo": {
           "bgcolor": "white",
           "lakecolor": "white",
           "landcolor": "#E5ECF6",
           "showlakes": true,
           "showland": true,
           "subunitcolor": "white"
          },
          "hoverlabel": {
           "align": "left"
          },
          "hovermode": "closest",
          "mapbox": {
           "style": "light"
          },
          "paper_bgcolor": "white",
          "plot_bgcolor": "#E5ECF6",
          "polar": {
           "angularaxis": {
            "gridcolor": "white",
            "linecolor": "white",
            "ticks": ""
           },
           "bgcolor": "#E5ECF6",
           "radialaxis": {
            "gridcolor": "white",
            "linecolor": "white",
            "ticks": ""
           }
          },
          "scene": {
           "xaxis": {
            "backgroundcolor": "#E5ECF6",
            "gridcolor": "white",
            "gridwidth": 2,
            "linecolor": "white",
            "showbackground": true,
            "ticks": "",
            "zerolinecolor": "white"
           },
           "yaxis": {
            "backgroundcolor": "#E5ECF6",
            "gridcolor": "white",
            "gridwidth": 2,
            "linecolor": "white",
            "showbackground": true,
            "ticks": "",
            "zerolinecolor": "white"
           },
           "zaxis": {
            "backgroundcolor": "#E5ECF6",
            "gridcolor": "white",
            "gridwidth": 2,
            "linecolor": "white",
            "showbackground": true,
            "ticks": "",
            "zerolinecolor": "white"
           }
          },
          "shapedefaults": {
           "line": {
            "color": "#2a3f5f"
           }
          },
          "ternary": {
           "aaxis": {
            "gridcolor": "white",
            "linecolor": "white",
            "ticks": ""
           },
           "baxis": {
            "gridcolor": "white",
            "linecolor": "white",
            "ticks": ""
           },
           "bgcolor": "#E5ECF6",
           "caxis": {
            "gridcolor": "white",
            "linecolor": "white",
            "ticks": ""
           }
          },
          "title": {
           "x": 0.05
          },
          "xaxis": {
           "automargin": true,
           "gridcolor": "white",
           "linecolor": "white",
           "ticks": "",
           "title": {
            "standoff": 15
           },
           "zerolinecolor": "white",
           "zerolinewidth": 2
          },
          "yaxis": {
           "automargin": true,
           "gridcolor": "white",
           "linecolor": "white",
           "ticks": "",
           "title": {
            "standoff": 15
           },
           "zerolinecolor": "white",
           "zerolinewidth": 2
          }
         }
        },
        "title": {
         "text": "Data Quality: Column Pair Trends (Average Score=0.6)"
        },
        "width": 900,
        "xaxis": {
         "anchor": "y",
         "domain": [
          0.26,
          0.74
         ],
         "tickangle": 45
        },
        "xaxis2": {
         "anchor": "y2",
         "domain": [
          0,
          0.45
         ],
         "tickangle": 45
        },
        "xaxis3": {
         "anchor": "y3",
         "domain": [
          0.55,
          1
         ],
         "matches": "x2",
         "tickangle": 45
        },
        "yaxis": {
         "anchor": "x",
         "autorange": "reversed",
         "domain": [
          0.625,
          1
         ]
        },
        "yaxis2": {
         "anchor": "x2",
         "autorange": "reversed",
         "domain": [
          0,
          0.375
         ]
        },
        "yaxis3": {
         "anchor": "x3",
         "autorange": "reversed",
         "domain": [
          0,
          0.375
         ],
         "matches": "y2",
         "visible": false
        }
       }
      }
     },
     "metadata": {},
     "output_type": "display_data"
    }
   ],
   "source": [
    "quality_report.get_visualization(property_name='Column Pair Trends').show(renderer='vscode')"
   ]
  },
  {
   "cell_type": "code",
   "execution_count": 21,
   "metadata": {},
   "outputs": [
    {
     "data": {
      "text/html": [
       "<div>\n",
       "<style scoped>\n",
       "    .dataframe tbody tr th:only-of-type {\n",
       "        vertical-align: middle;\n",
       "    }\n",
       "\n",
       "    .dataframe tbody tr th {\n",
       "        vertical-align: top;\n",
       "    }\n",
       "\n",
       "    .dataframe thead th {\n",
       "        text-align: right;\n",
       "    }\n",
       "</style>\n",
       "<table border=\"1\" class=\"dataframe\">\n",
       "  <thead>\n",
       "    <tr style=\"text-align: right;\">\n",
       "      <th></th>\n",
       "      <th>age</th>\n",
       "      <th>trtbps</th>\n",
       "      <th>chol</th>\n",
       "      <th>thalachh</th>\n",
       "      <th>oldpeak</th>\n",
       "      <th>sex_1</th>\n",
       "      <th>exng_1</th>\n",
       "      <th>caa_1</th>\n",
       "      <th>caa_2</th>\n",
       "      <th>caa_3</th>\n",
       "      <th>...</th>\n",
       "      <th>cp_3</th>\n",
       "      <th>fbs_1</th>\n",
       "      <th>restecg_1</th>\n",
       "      <th>restecg_2</th>\n",
       "      <th>slp_1</th>\n",
       "      <th>slp_2</th>\n",
       "      <th>thall_1</th>\n",
       "      <th>thall_2</th>\n",
       "      <th>thall_3</th>\n",
       "      <th>output</th>\n",
       "    </tr>\n",
       "  </thead>\n",
       "  <tbody>\n",
       "    <tr>\n",
       "      <th>132</th>\n",
       "      <td>-0.962963</td>\n",
       "      <td>-0.50</td>\n",
       "      <td>0.866142</td>\n",
       "      <td>0.276923</td>\n",
       "      <td>-0.500</td>\n",
       "      <td>True</td>\n",
       "      <td>False</td>\n",
       "      <td>False</td>\n",
       "      <td>False</td>\n",
       "      <td>False</td>\n",
       "      <td>...</td>\n",
       "      <td>False</td>\n",
       "      <td>False</td>\n",
       "      <td>True</td>\n",
       "      <td>False</td>\n",
       "      <td>False</td>\n",
       "      <td>True</td>\n",
       "      <td>False</td>\n",
       "      <td>True</td>\n",
       "      <td>False</td>\n",
       "      <td>1</td>\n",
       "    </tr>\n",
       "    <tr>\n",
       "      <th>202</th>\n",
       "      <td>0.222222</td>\n",
       "      <td>1.00</td>\n",
       "      <td>0.472441</td>\n",
       "      <td>-1.292308</td>\n",
       "      <td>0.000</td>\n",
       "      <td>True</td>\n",
       "      <td>True</td>\n",
       "      <td>False</td>\n",
       "      <td>False</td>\n",
       "      <td>False</td>\n",
       "      <td>...</td>\n",
       "      <td>False</td>\n",
       "      <td>False</td>\n",
       "      <td>False</td>\n",
       "      <td>False</td>\n",
       "      <td>False</td>\n",
       "      <td>True</td>\n",
       "      <td>False</td>\n",
       "      <td>False</td>\n",
       "      <td>True</td>\n",
       "      <td>0</td>\n",
       "    </tr>\n",
       "    <tr>\n",
       "      <th>196</th>\n",
       "      <td>-0.666667</td>\n",
       "      <td>1.00</td>\n",
       "      <td>-0.141732</td>\n",
       "      <td>-0.184615</td>\n",
       "      <td>1.750</td>\n",
       "      <td>True</td>\n",
       "      <td>False</td>\n",
       "      <td>False</td>\n",
       "      <td>False</td>\n",
       "      <td>False</td>\n",
       "      <td>...</td>\n",
       "      <td>False</td>\n",
       "      <td>False</td>\n",
       "      <td>True</td>\n",
       "      <td>False</td>\n",
       "      <td>True</td>\n",
       "      <td>False</td>\n",
       "      <td>False</td>\n",
       "      <td>True</td>\n",
       "      <td>False</td>\n",
       "      <td>0</td>\n",
       "    </tr>\n",
       "    <tr>\n",
       "      <th>75</th>\n",
       "      <td>0.000000</td>\n",
       "      <td>0.25</td>\n",
       "      <td>0.157480</td>\n",
       "      <td>0.246154</td>\n",
       "      <td>0.375</td>\n",
       "      <td>False</td>\n",
       "      <td>False</td>\n",
       "      <td>False</td>\n",
       "      <td>False</td>\n",
       "      <td>False</td>\n",
       "      <td>...</td>\n",
       "      <td>False</td>\n",
       "      <td>False</td>\n",
       "      <td>False</td>\n",
       "      <td>False</td>\n",
       "      <td>True</td>\n",
       "      <td>False</td>\n",
       "      <td>False</td>\n",
       "      <td>True</td>\n",
       "      <td>False</td>\n",
       "      <td>1</td>\n",
       "    </tr>\n",
       "    <tr>\n",
       "      <th>176</th>\n",
       "      <td>0.370370</td>\n",
       "      <td>-0.65</td>\n",
       "      <td>-0.157480</td>\n",
       "      <td>0.215385</td>\n",
       "      <td>0.375</td>\n",
       "      <td>True</td>\n",
       "      <td>True</td>\n",
       "      <td>False</td>\n",
       "      <td>True</td>\n",
       "      <td>False</td>\n",
       "      <td>...</td>\n",
       "      <td>False</td>\n",
       "      <td>True</td>\n",
       "      <td>True</td>\n",
       "      <td>False</td>\n",
       "      <td>False</td>\n",
       "      <td>True</td>\n",
       "      <td>False</td>\n",
       "      <td>False</td>\n",
       "      <td>True</td>\n",
       "      <td>0</td>\n",
       "    </tr>\n",
       "  </tbody>\n",
       "</table>\n",
       "<p>5 rows × 23 columns</p>\n",
       "</div>"
      ],
      "text/plain": [
       "          age  trtbps      chol  thalachh  oldpeak  sex_1  exng_1  caa_1  \\\n",
       "132 -0.962963   -0.50  0.866142  0.276923   -0.500   True   False  False   \n",
       "202  0.222222    1.00  0.472441 -1.292308    0.000   True    True  False   \n",
       "196 -0.666667    1.00 -0.141732 -0.184615    1.750   True   False  False   \n",
       "75   0.000000    0.25  0.157480  0.246154    0.375  False   False  False   \n",
       "176  0.370370   -0.65 -0.157480  0.215385    0.375   True    True  False   \n",
       "\n",
       "     caa_2  caa_3  ...   cp_3  fbs_1  restecg_1  restecg_2  slp_1  slp_2  \\\n",
       "132  False  False  ...  False  False       True      False  False   True   \n",
       "202  False  False  ...  False  False      False      False  False   True   \n",
       "196  False  False  ...  False  False       True      False   True  False   \n",
       "75   False  False  ...  False  False      False      False   True  False   \n",
       "176   True  False  ...  False   True       True      False  False   True   \n",
       "\n",
       "     thall_1  thall_2  thall_3  output  \n",
       "132    False     True    False       1  \n",
       "202    False    False     True       0  \n",
       "196    False     True    False       0  \n",
       "75     False     True    False       1  \n",
       "176    False    False     True       0  \n",
       "\n",
       "[5 rows x 23 columns]"
      ]
     },
     "execution_count": 21,
     "metadata": {},
     "output_type": "execute_result"
    }
   ],
   "source": [
    "GC_data = pd.concat([sdv_data, synthetic_data])\n",
    "\n",
    "GC_data.head()"
   ]
  },
  {
   "cell_type": "code",
   "execution_count": 22,
   "metadata": {},
   "outputs": [],
   "source": [
    "from sdv.single_table import CTGANSynthesizer"
   ]
  },
  {
   "cell_type": "code",
   "execution_count": 23,
   "metadata": {},
   "outputs": [],
   "source": [
    "CTGANsynth = CTGANSynthesizer(metadata, verbose = True)"
   ]
  },
  {
   "cell_type": "code",
   "execution_count": 24,
   "metadata": {},
   "outputs": [
    {
     "name": "stderr",
     "output_type": "stream",
     "text": [
      "Gen. (-0.32) | Discrim. (0.16): 100%|██████████| 300/300 [00:42<00:00,  7.11it/s] \n"
     ]
    }
   ],
   "source": [
    "CTGANsynth.fit(sdv_data)"
   ]
  },
  {
   "cell_type": "code",
   "execution_count": 25,
   "metadata": {},
   "outputs": [],
   "source": [
    "CTGan_synth_data = CTGANsynth.sample(num_rows=242)"
   ]
  },
  {
   "cell_type": "code",
   "execution_count": 26,
   "metadata": {},
   "outputs": [
    {
     "name": "stdout",
     "output_type": "stream",
     "text": [
      "Generating report ...\n",
      "\n",
      "(1/2) Evaluating Column Shapes: |██████████| 23/23 [00:00<00:00, 1443.87it/s]|\n",
      "Column Shapes Score: 91.09%\n",
      "\n",
      "(2/2) Evaluating Column Pair Trends: |██████████| 253/253 [00:03<00:00, 80.87it/s]| \n",
      "Column Pair Trends Score: 58.48%\n",
      "\n",
      "Overall Score (Average): 74.78%\n",
      "\n"
     ]
    },
    {
     "data": {
      "application/vnd.plotly.v1+json": {
       "config": {
        "plotlyServerURL": "https://plot.ly"
       },
       "data": [
        {
         "coloraxis": "coloraxis",
         "hovertemplate": "<b>Column Pair</b><br>(%{x},%{y})<br><br>Similarity: %{z}<extra></extra>",
         "type": "heatmap",
         "x": [
          "age",
          "trtbps",
          "chol",
          "thalachh",
          "oldpeak",
          "sex_1",
          "exng_1",
          "caa_1",
          "caa_2",
          "caa_3",
          "caa_4",
          "cp_1",
          "cp_2",
          "cp_3",
          "fbs_1",
          "restecg_1",
          "restecg_2",
          "slp_1",
          "slp_2",
          "thall_1",
          "thall_2",
          "thall_3",
          "output"
         ],
         "xaxis": "x",
         "y": [
          "age",
          "trtbps",
          "chol",
          "thalachh",
          "oldpeak",
          "sex_1",
          "exng_1",
          "caa_1",
          "caa_2",
          "caa_3",
          "caa_4",
          "cp_1",
          "cp_2",
          "cp_3",
          "fbs_1",
          "restecg_1",
          "restecg_2",
          "slp_1",
          "slp_2",
          "thall_1",
          "thall_2",
          "thall_3",
          "output"
         ],
         "yaxis": "y",
         "z": [
          [
           1,
           0.856,
           0.912,
           0.801,
           0.924,
           0,
           0,
           0,
           0,
           0,
           0,
           0,
           0,
           0,
           0,
           0,
           0,
           0,
           0,
           0,
           0,
           0,
           0
          ],
          [
           0.856,
           1,
           0.876,
           0.952,
           0.942,
           0,
           0,
           0,
           0,
           0,
           0,
           0,
           0,
           0,
           0,
           0,
           0,
           0,
           0,
           0,
           0,
           0,
           0
          ],
          [
           0.912,
           0.876,
           1,
           0.979,
           0.925,
           0,
           0,
           0,
           0,
           0,
           0,
           0,
           0,
           0,
           0,
           0,
           0,
           0,
           0,
           0,
           0,
           0,
           0
          ],
          [
           0.801,
           0.952,
           0.979,
           1,
           0.781,
           0,
           0,
           0,
           0,
           0,
           0,
           0,
           0,
           0,
           0,
           0,
           0,
           0,
           0,
           0,
           0,
           0,
           0
          ],
          [
           0.924,
           0.942,
           0.925,
           0.781,
           1,
           0,
           0,
           0,
           0,
           0,
           0,
           0,
           0,
           0,
           0,
           0,
           0,
           0,
           0,
           0,
           0,
           0,
           0
          ],
          [
           0,
           0,
           0,
           0,
           0,
           1,
           0.893,
           0.938,
           0.955,
           0.95,
           0.967,
           0.942,
           0.921,
           0.967,
           0.967,
           0.959,
           0.946,
           0.88,
           0.864,
           0.967,
           0.847,
           0.839,
           0.864
          ],
          [
           0,
           0,
           0,
           0,
           0,
           0.893,
           1,
           0.888,
           0.901,
           0.893,
           0.909,
           0.905,
           0.909,
           0.909,
           0.909,
           0.909,
           0.905,
           0.822,
           0.814,
           0.901,
           0.785,
           0.814,
           0.748
          ],
          [
           0,
           0,
           0,
           0,
           0,
           0.938,
           0.888,
           1,
           0.95,
           0.946,
           0.963,
           0.93,
           0.963,
           0.963,
           0.963,
           0.942,
           0.959,
           0.88,
           0.864,
           0.963,
           0.855,
           0.955,
           0.868
          ],
          [
           0,
           0,
           0,
           0,
           0,
           0.955,
           0.901,
           0.95,
           1,
           0.95,
           0.979,
           0.942,
           0.917,
           0.963,
           0.979,
           0.959,
           0.979,
           0.872,
           0.855,
           0.975,
           0.793,
           0.963,
           0.884
          ],
          [
           0,
           0,
           0,
           0,
           0,
           0.95,
           0.893,
           0.946,
           0.95,
           1,
           0.955,
           0.93,
           0.95,
           0.946,
           0.955,
           0.955,
           0.955,
           0.864,
           0.847,
           0.938,
           0.843,
           0.93,
           0.901
          ],
          [
           0,
           0,
           0,
           0,
           0,
           0.967,
           0.909,
           0.963,
           0.979,
           0.955,
           1,
           0.942,
           0.971,
           0.988,
           0.996,
           0.975,
           0.996,
           0.88,
           0.864,
           0.988,
           0.86,
           0.971,
           0.955
          ],
          [
           0,
           0,
           0,
           0,
           0,
           0.942,
           0.905,
           0.93,
           0.942,
           0.93,
           0.942,
           1,
           0.818,
           0.946,
           0.946,
           0.946,
           0.934,
           0.88,
           0.864,
           0.946,
           0.864,
           0.946,
           0.913
          ],
          [
           0,
           0,
           0,
           0,
           0,
           0.921,
           0.909,
           0.963,
           0.917,
           0.95,
           0.971,
           0.818,
           1,
           0.93,
           0.971,
           0.95,
           0.971,
           0.88,
           0.864,
           0.963,
           0.864,
           0.917,
           0.917
          ],
          [
           0,
           0,
           0,
           0,
           0,
           0.967,
           0.909,
           0.963,
           0.963,
           0.946,
           0.988,
           0.946,
           0.93,
           1,
           0.967,
           0.942,
           0.992,
           0.876,
           0.864,
           0.967,
           0.864,
           0.967,
           0.955
          ],
          [
           0,
           0,
           0,
           0,
           0,
           0.967,
           0.909,
           0.963,
           0.979,
           0.955,
           0.996,
           0.946,
           0.971,
           0.967,
           1,
           0.967,
           0.996,
           0.88,
           0.864,
           0.959,
           0.855,
           0.971,
           0.955
          ],
          [
           0,
           0,
           0,
           0,
           0,
           0.959,
           0.909,
           0.942,
           0.959,
           0.955,
           0.975,
           0.946,
           0.95,
           0.942,
           0.967,
           1,
           0.963,
           0.88,
           0.864,
           0.959,
           0.864,
           0.959,
           0.888
          ],
          [
           0,
           0,
           0,
           0,
           0,
           0.946,
           0.905,
           0.959,
           0.979,
           0.955,
           0.996,
           0.934,
           0.971,
           0.992,
           0.996,
           0.963,
           1,
           0.868,
           0.851,
           0.992,
           0.864,
           0.967,
           0.955
          ],
          [
           0,
           0,
           0,
           0,
           0,
           0.88,
           0.822,
           0.88,
           0.872,
           0.864,
           0.88,
           0.88,
           0.88,
           0.876,
           0.88,
           0.88,
           0.868,
           1,
           0.612,
           0.864,
           0.802,
           0.88,
           0.839
          ],
          [
           0,
           0,
           0,
           0,
           0,
           0.864,
           0.814,
           0.864,
           0.855,
           0.847,
           0.864,
           0.864,
           0.864,
           0.864,
           0.864,
           0.864,
           0.851,
           0.612,
           1,
           0.864,
           0.839,
           0.864,
           0.81
          ],
          [
           0,
           0,
           0,
           0,
           0,
           0.967,
           0.901,
           0.963,
           0.975,
           0.938,
           0.988,
           0.946,
           0.963,
           0.967,
           0.959,
           0.959,
           0.992,
           0.864,
           0.864,
           1,
           0.814,
           0.967,
           0.93
          ],
          [
           0,
           0,
           0,
           0,
           0,
           0.847,
           0.785,
           0.855,
           0.793,
           0.843,
           0.86,
           0.864,
           0.864,
           0.864,
           0.855,
           0.864,
           0.864,
           0.802,
           0.839,
           0.814,
           1,
           0.545,
           0.702
          ],
          [
           0,
           0,
           0,
           0,
           0,
           0.839,
           0.814,
           0.955,
           0.963,
           0.93,
           0.971,
           0.946,
           0.917,
           0.967,
           0.971,
           0.959,
           0.967,
           0.88,
           0.864,
           0.967,
           0.545,
           1,
           0.81
          ],
          [
           0,
           0,
           0,
           0,
           0,
           0.864,
           0.748,
           0.868,
           0.884,
           0.901,
           0.955,
           0.913,
           0.917,
           0.955,
           0.955,
           0.888,
           0.955,
           0.839,
           0.81,
           0.93,
           0.702,
           0.81,
           1
          ]
         ]
        },
        {
         "coloraxis": "coloraxis2",
         "customdata": [
          [
           1,
           -0.003,
           0.055,
           0.002,
           0.05
          ],
          [
           -0.003,
           1,
           -0.099,
           0.059,
           0.017
          ],
          [
           0.055,
           -0.099,
           1,
           -0.03,
           -0.038
          ],
          [
           0.002,
           0.059,
           -0.03,
           1,
           0.093
          ],
          [
           0.05,
           0.017,
           -0.038,
           0.093,
           1
          ]
         ],
         "hovertemplate": "<b>Correlation</b><br>(%{x},%{y})<br><br>Synthetic: %{z}<br>(vs. Real: %{customdata})<extra></extra>",
         "type": "heatmap",
         "x": [
          "age",
          "trtbps",
          "chol",
          "thalachh",
          "oldpeak"
         ],
         "xaxis": "x2",
         "y": [
          "age",
          "trtbps",
          "chol",
          "thalachh",
          "oldpeak"
         ],
         "yaxis": "y2",
         "z": [
          [
           1,
           0.285,
           0.232,
           -0.396,
           0.202
          ],
          [
           0.285,
           1,
           0.148,
           -0.038,
           0.132
          ],
          [
           0.232,
           0.148,
           1,
           0.013,
           0.111
          ],
          [
           -0.396,
           -0.038,
           0.013,
           1,
           -0.345
          ],
          [
           0.202,
           0.132,
           0.111,
           -0.345,
           1
          ]
         ]
        },
        {
         "coloraxis": "coloraxis2",
         "customdata": [
          [
           1,
           0.285,
           0.232,
           -0.396,
           0.202
          ],
          [
           0.285,
           1,
           0.148,
           -0.038,
           0.132
          ],
          [
           0.232,
           0.148,
           1,
           0.013,
           0.111
          ],
          [
           -0.396,
           -0.038,
           0.013,
           1,
           -0.345
          ],
          [
           0.202,
           0.132,
           0.111,
           -0.345,
           1
          ]
         ],
         "hovertemplate": "<b>Correlation</b><br>(%{x},%{y})<br><br>Synthetic: %{z}<br>(vs. Real: %{customdata})<extra></extra>",
         "type": "heatmap",
         "x": [
          "age",
          "trtbps",
          "chol",
          "thalachh",
          "oldpeak"
         ],
         "xaxis": "x3",
         "y": [
          "age",
          "trtbps",
          "chol",
          "thalachh",
          "oldpeak"
         ],
         "yaxis": "y3",
         "z": [
          [
           1,
           -0.003,
           0.055,
           0.002,
           0.05
          ],
          [
           -0.003,
           1,
           -0.099,
           0.059,
           0.017
          ],
          [
           0.055,
           -0.099,
           1,
           -0.03,
           -0.038
          ],
          [
           0.002,
           0.059,
           -0.03,
           1,
           0.093
          ],
          [
           0.05,
           0.017,
           -0.038,
           0.093,
           1
          ]
         ]
        }
       ],
       "layout": {
        "annotations": [
         {
          "font": {
           "size": 16
          },
          "showarrow": false,
          "text": "Real vs. Synthetic Similarity",
          "x": 0.5,
          "xanchor": "center",
          "xref": "paper",
          "y": 1,
          "yanchor": "bottom",
          "yref": "paper"
         },
         {
          "font": {
           "size": 16
          },
          "showarrow": false,
          "text": "Numerical Correlation (Real Data)",
          "x": 0.225,
          "xanchor": "center",
          "xref": "paper",
          "y": 0.375,
          "yanchor": "bottom",
          "yref": "paper"
         },
         {
          "font": {
           "size": 16
          },
          "showarrow": false,
          "text": "Numerical Correlation (Synthetic Data)",
          "x": 0.775,
          "xanchor": "center",
          "xref": "paper",
          "y": 0.375,
          "yanchor": "bottom",
          "yref": "paper"
         }
        ],
        "coloraxis": {
         "cmax": 1,
         "cmin": 0,
         "colorbar": {
          "len": 0.5,
          "x": 0.8,
          "y": 0.8
         },
         "colorscale": [
          [
           0,
           "#FF0000"
          ],
          [
           0.5,
           "#F16141"
          ],
          [
           1,
           "#36B37E"
          ]
         ]
        },
        "coloraxis2": {
         "cmax": 1,
         "cmin": -1,
         "colorbar": {
          "len": 0.5,
          "y": 0.2
         },
         "colorscale": [
          [
           0,
           "#03AFF1"
          ],
          [
           0.5,
           "#000036"
          ],
          [
           1,
           "#01E0C9"
          ]
         ]
        },
        "font": {
         "size": 18
        },
        "height": 900,
        "template": {
         "data": {
          "bar": [
           {
            "error_x": {
             "color": "#2a3f5f"
            },
            "error_y": {
             "color": "#2a3f5f"
            },
            "marker": {
             "line": {
              "color": "#E5ECF6",
              "width": 0.5
             },
             "pattern": {
              "fillmode": "overlay",
              "size": 10,
              "solidity": 0.2
             }
            },
            "type": "bar"
           }
          ],
          "barpolar": [
           {
            "marker": {
             "line": {
              "color": "#E5ECF6",
              "width": 0.5
             },
             "pattern": {
              "fillmode": "overlay",
              "size": 10,
              "solidity": 0.2
             }
            },
            "type": "barpolar"
           }
          ],
          "carpet": [
           {
            "aaxis": {
             "endlinecolor": "#2a3f5f",
             "gridcolor": "white",
             "linecolor": "white",
             "minorgridcolor": "white",
             "startlinecolor": "#2a3f5f"
            },
            "baxis": {
             "endlinecolor": "#2a3f5f",
             "gridcolor": "white",
             "linecolor": "white",
             "minorgridcolor": "white",
             "startlinecolor": "#2a3f5f"
            },
            "type": "carpet"
           }
          ],
          "choropleth": [
           {
            "colorbar": {
             "outlinewidth": 0,
             "ticks": ""
            },
            "type": "choropleth"
           }
          ],
          "contour": [
           {
            "colorbar": {
             "outlinewidth": 0,
             "ticks": ""
            },
            "colorscale": [
             [
              0,
              "#0d0887"
             ],
             [
              0.1111111111111111,
              "#46039f"
             ],
             [
              0.2222222222222222,
              "#7201a8"
             ],
             [
              0.3333333333333333,
              "#9c179e"
             ],
             [
              0.4444444444444444,
              "#bd3786"
             ],
             [
              0.5555555555555556,
              "#d8576b"
             ],
             [
              0.6666666666666666,
              "#ed7953"
             ],
             [
              0.7777777777777778,
              "#fb9f3a"
             ],
             [
              0.8888888888888888,
              "#fdca26"
             ],
             [
              1,
              "#f0f921"
             ]
            ],
            "type": "contour"
           }
          ],
          "contourcarpet": [
           {
            "colorbar": {
             "outlinewidth": 0,
             "ticks": ""
            },
            "type": "contourcarpet"
           }
          ],
          "heatmap": [
           {
            "colorbar": {
             "outlinewidth": 0,
             "ticks": ""
            },
            "colorscale": [
             [
              0,
              "#0d0887"
             ],
             [
              0.1111111111111111,
              "#46039f"
             ],
             [
              0.2222222222222222,
              "#7201a8"
             ],
             [
              0.3333333333333333,
              "#9c179e"
             ],
             [
              0.4444444444444444,
              "#bd3786"
             ],
             [
              0.5555555555555556,
              "#d8576b"
             ],
             [
              0.6666666666666666,
              "#ed7953"
             ],
             [
              0.7777777777777778,
              "#fb9f3a"
             ],
             [
              0.8888888888888888,
              "#fdca26"
             ],
             [
              1,
              "#f0f921"
             ]
            ],
            "type": "heatmap"
           }
          ],
          "heatmapgl": [
           {
            "colorbar": {
             "outlinewidth": 0,
             "ticks": ""
            },
            "colorscale": [
             [
              0,
              "#0d0887"
             ],
             [
              0.1111111111111111,
              "#46039f"
             ],
             [
              0.2222222222222222,
              "#7201a8"
             ],
             [
              0.3333333333333333,
              "#9c179e"
             ],
             [
              0.4444444444444444,
              "#bd3786"
             ],
             [
              0.5555555555555556,
              "#d8576b"
             ],
             [
              0.6666666666666666,
              "#ed7953"
             ],
             [
              0.7777777777777778,
              "#fb9f3a"
             ],
             [
              0.8888888888888888,
              "#fdca26"
             ],
             [
              1,
              "#f0f921"
             ]
            ],
            "type": "heatmapgl"
           }
          ],
          "histogram": [
           {
            "marker": {
             "pattern": {
              "fillmode": "overlay",
              "size": 10,
              "solidity": 0.2
             }
            },
            "type": "histogram"
           }
          ],
          "histogram2d": [
           {
            "colorbar": {
             "outlinewidth": 0,
             "ticks": ""
            },
            "colorscale": [
             [
              0,
              "#0d0887"
             ],
             [
              0.1111111111111111,
              "#46039f"
             ],
             [
              0.2222222222222222,
              "#7201a8"
             ],
             [
              0.3333333333333333,
              "#9c179e"
             ],
             [
              0.4444444444444444,
              "#bd3786"
             ],
             [
              0.5555555555555556,
              "#d8576b"
             ],
             [
              0.6666666666666666,
              "#ed7953"
             ],
             [
              0.7777777777777778,
              "#fb9f3a"
             ],
             [
              0.8888888888888888,
              "#fdca26"
             ],
             [
              1,
              "#f0f921"
             ]
            ],
            "type": "histogram2d"
           }
          ],
          "histogram2dcontour": [
           {
            "colorbar": {
             "outlinewidth": 0,
             "ticks": ""
            },
            "colorscale": [
             [
              0,
              "#0d0887"
             ],
             [
              0.1111111111111111,
              "#46039f"
             ],
             [
              0.2222222222222222,
              "#7201a8"
             ],
             [
              0.3333333333333333,
              "#9c179e"
             ],
             [
              0.4444444444444444,
              "#bd3786"
             ],
             [
              0.5555555555555556,
              "#d8576b"
             ],
             [
              0.6666666666666666,
              "#ed7953"
             ],
             [
              0.7777777777777778,
              "#fb9f3a"
             ],
             [
              0.8888888888888888,
              "#fdca26"
             ],
             [
              1,
              "#f0f921"
             ]
            ],
            "type": "histogram2dcontour"
           }
          ],
          "mesh3d": [
           {
            "colorbar": {
             "outlinewidth": 0,
             "ticks": ""
            },
            "type": "mesh3d"
           }
          ],
          "parcoords": [
           {
            "line": {
             "colorbar": {
              "outlinewidth": 0,
              "ticks": ""
             }
            },
            "type": "parcoords"
           }
          ],
          "pie": [
           {
            "automargin": true,
            "type": "pie"
           }
          ],
          "scatter": [
           {
            "fillpattern": {
             "fillmode": "overlay",
             "size": 10,
             "solidity": 0.2
            },
            "type": "scatter"
           }
          ],
          "scatter3d": [
           {
            "line": {
             "colorbar": {
              "outlinewidth": 0,
              "ticks": ""
             }
            },
            "marker": {
             "colorbar": {
              "outlinewidth": 0,
              "ticks": ""
             }
            },
            "type": "scatter3d"
           }
          ],
          "scattercarpet": [
           {
            "marker": {
             "colorbar": {
              "outlinewidth": 0,
              "ticks": ""
             }
            },
            "type": "scattercarpet"
           }
          ],
          "scattergeo": [
           {
            "marker": {
             "colorbar": {
              "outlinewidth": 0,
              "ticks": ""
             }
            },
            "type": "scattergeo"
           }
          ],
          "scattergl": [
           {
            "marker": {
             "colorbar": {
              "outlinewidth": 0,
              "ticks": ""
             }
            },
            "type": "scattergl"
           }
          ],
          "scattermapbox": [
           {
            "marker": {
             "colorbar": {
              "outlinewidth": 0,
              "ticks": ""
             }
            },
            "type": "scattermapbox"
           }
          ],
          "scatterpolar": [
           {
            "marker": {
             "colorbar": {
              "outlinewidth": 0,
              "ticks": ""
             }
            },
            "type": "scatterpolar"
           }
          ],
          "scatterpolargl": [
           {
            "marker": {
             "colorbar": {
              "outlinewidth": 0,
              "ticks": ""
             }
            },
            "type": "scatterpolargl"
           }
          ],
          "scatterternary": [
           {
            "marker": {
             "colorbar": {
              "outlinewidth": 0,
              "ticks": ""
             }
            },
            "type": "scatterternary"
           }
          ],
          "surface": [
           {
            "colorbar": {
             "outlinewidth": 0,
             "ticks": ""
            },
            "colorscale": [
             [
              0,
              "#0d0887"
             ],
             [
              0.1111111111111111,
              "#46039f"
             ],
             [
              0.2222222222222222,
              "#7201a8"
             ],
             [
              0.3333333333333333,
              "#9c179e"
             ],
             [
              0.4444444444444444,
              "#bd3786"
             ],
             [
              0.5555555555555556,
              "#d8576b"
             ],
             [
              0.6666666666666666,
              "#ed7953"
             ],
             [
              0.7777777777777778,
              "#fb9f3a"
             ],
             [
              0.8888888888888888,
              "#fdca26"
             ],
             [
              1,
              "#f0f921"
             ]
            ],
            "type": "surface"
           }
          ],
          "table": [
           {
            "cells": {
             "fill": {
              "color": "#EBF0F8"
             },
             "line": {
              "color": "white"
             }
            },
            "header": {
             "fill": {
              "color": "#C8D4E3"
             },
             "line": {
              "color": "white"
             }
            },
            "type": "table"
           }
          ]
         },
         "layout": {
          "annotationdefaults": {
           "arrowcolor": "#2a3f5f",
           "arrowhead": 0,
           "arrowwidth": 1
          },
          "autotypenumbers": "strict",
          "coloraxis": {
           "colorbar": {
            "outlinewidth": 0,
            "ticks": ""
           }
          },
          "colorscale": {
           "diverging": [
            [
             0,
             "#8e0152"
            ],
            [
             0.1,
             "#c51b7d"
            ],
            [
             0.2,
             "#de77ae"
            ],
            [
             0.3,
             "#f1b6da"
            ],
            [
             0.4,
             "#fde0ef"
            ],
            [
             0.5,
             "#f7f7f7"
            ],
            [
             0.6,
             "#e6f5d0"
            ],
            [
             0.7,
             "#b8e186"
            ],
            [
             0.8,
             "#7fbc41"
            ],
            [
             0.9,
             "#4d9221"
            ],
            [
             1,
             "#276419"
            ]
           ],
           "sequential": [
            [
             0,
             "#0d0887"
            ],
            [
             0.1111111111111111,
             "#46039f"
            ],
            [
             0.2222222222222222,
             "#7201a8"
            ],
            [
             0.3333333333333333,
             "#9c179e"
            ],
            [
             0.4444444444444444,
             "#bd3786"
            ],
            [
             0.5555555555555556,
             "#d8576b"
            ],
            [
             0.6666666666666666,
             "#ed7953"
            ],
            [
             0.7777777777777778,
             "#fb9f3a"
            ],
            [
             0.8888888888888888,
             "#fdca26"
            ],
            [
             1,
             "#f0f921"
            ]
           ],
           "sequentialminus": [
            [
             0,
             "#0d0887"
            ],
            [
             0.1111111111111111,
             "#46039f"
            ],
            [
             0.2222222222222222,
             "#7201a8"
            ],
            [
             0.3333333333333333,
             "#9c179e"
            ],
            [
             0.4444444444444444,
             "#bd3786"
            ],
            [
             0.5555555555555556,
             "#d8576b"
            ],
            [
             0.6666666666666666,
             "#ed7953"
            ],
            [
             0.7777777777777778,
             "#fb9f3a"
            ],
            [
             0.8888888888888888,
             "#fdca26"
            ],
            [
             1,
             "#f0f921"
            ]
           ]
          },
          "colorway": [
           "#636efa",
           "#EF553B",
           "#00cc96",
           "#ab63fa",
           "#FFA15A",
           "#19d3f3",
           "#FF6692",
           "#B6E880",
           "#FF97FF",
           "#FECB52"
          ],
          "font": {
           "color": "#2a3f5f"
          },
          "geo": {
           "bgcolor": "white",
           "lakecolor": "white",
           "landcolor": "#E5ECF6",
           "showlakes": true,
           "showland": true,
           "subunitcolor": "white"
          },
          "hoverlabel": {
           "align": "left"
          },
          "hovermode": "closest",
          "mapbox": {
           "style": "light"
          },
          "paper_bgcolor": "white",
          "plot_bgcolor": "#E5ECF6",
          "polar": {
           "angularaxis": {
            "gridcolor": "white",
            "linecolor": "white",
            "ticks": ""
           },
           "bgcolor": "#E5ECF6",
           "radialaxis": {
            "gridcolor": "white",
            "linecolor": "white",
            "ticks": ""
           }
          },
          "scene": {
           "xaxis": {
            "backgroundcolor": "#E5ECF6",
            "gridcolor": "white",
            "gridwidth": 2,
            "linecolor": "white",
            "showbackground": true,
            "ticks": "",
            "zerolinecolor": "white"
           },
           "yaxis": {
            "backgroundcolor": "#E5ECF6",
            "gridcolor": "white",
            "gridwidth": 2,
            "linecolor": "white",
            "showbackground": true,
            "ticks": "",
            "zerolinecolor": "white"
           },
           "zaxis": {
            "backgroundcolor": "#E5ECF6",
            "gridcolor": "white",
            "gridwidth": 2,
            "linecolor": "white",
            "showbackground": true,
            "ticks": "",
            "zerolinecolor": "white"
           }
          },
          "shapedefaults": {
           "line": {
            "color": "#2a3f5f"
           }
          },
          "ternary": {
           "aaxis": {
            "gridcolor": "white",
            "linecolor": "white",
            "ticks": ""
           },
           "baxis": {
            "gridcolor": "white",
            "linecolor": "white",
            "ticks": ""
           },
           "bgcolor": "#E5ECF6",
           "caxis": {
            "gridcolor": "white",
            "linecolor": "white",
            "ticks": ""
           }
          },
          "title": {
           "x": 0.05
          },
          "xaxis": {
           "automargin": true,
           "gridcolor": "white",
           "linecolor": "white",
           "ticks": "",
           "title": {
            "standoff": 15
           },
           "zerolinecolor": "white",
           "zerolinewidth": 2
          },
          "yaxis": {
           "automargin": true,
           "gridcolor": "white",
           "linecolor": "white",
           "ticks": "",
           "title": {
            "standoff": 15
           },
           "zerolinecolor": "white",
           "zerolinewidth": 2
          }
         }
        },
        "title": {
         "text": "Data Quality: Column Pair Trends (Average Score=0.58)"
        },
        "width": 900,
        "xaxis": {
         "anchor": "y",
         "domain": [
          0.26,
          0.74
         ],
         "tickangle": 45
        },
        "xaxis2": {
         "anchor": "y2",
         "domain": [
          0,
          0.45
         ],
         "tickangle": 45
        },
        "xaxis3": {
         "anchor": "y3",
         "domain": [
          0.55,
          1
         ],
         "matches": "x2",
         "tickangle": 45
        },
        "yaxis": {
         "anchor": "x",
         "autorange": "reversed",
         "domain": [
          0.625,
          1
         ]
        },
        "yaxis2": {
         "anchor": "x2",
         "autorange": "reversed",
         "domain": [
          0,
          0.375
         ]
        },
        "yaxis3": {
         "anchor": "x3",
         "autorange": "reversed",
         "domain": [
          0,
          0.375
         ],
         "matches": "y2",
         "visible": false
        }
       }
      }
     },
     "metadata": {},
     "output_type": "display_data"
    }
   ],
   "source": [
    "quality_report_CTG = evaluate_quality(\n",
    "    real_data=sdv_data,\n",
    "    synthetic_data=CTGan_synth_data,\n",
    "    metadata=metadata)\n",
    "quality_report_CTG.get_visualization(property_name='Column Pair Trends').show(renderer='vscode')"
   ]
  },
  {
   "cell_type": "code",
   "execution_count": 27,
   "metadata": {},
   "outputs": [
    {
     "data": {
      "text/html": [
       "<div>\n",
       "<style scoped>\n",
       "    .dataframe tbody tr th:only-of-type {\n",
       "        vertical-align: middle;\n",
       "    }\n",
       "\n",
       "    .dataframe tbody tr th {\n",
       "        vertical-align: top;\n",
       "    }\n",
       "\n",
       "    .dataframe thead th {\n",
       "        text-align: right;\n",
       "    }\n",
       "</style>\n",
       "<table border=\"1\" class=\"dataframe\">\n",
       "  <thead>\n",
       "    <tr style=\"text-align: right;\">\n",
       "      <th></th>\n",
       "      <th>age</th>\n",
       "      <th>trtbps</th>\n",
       "      <th>chol</th>\n",
       "      <th>thalachh</th>\n",
       "      <th>oldpeak</th>\n",
       "      <th>sex_1</th>\n",
       "      <th>exng_1</th>\n",
       "      <th>caa_1</th>\n",
       "      <th>caa_2</th>\n",
       "      <th>caa_3</th>\n",
       "      <th>...</th>\n",
       "      <th>cp_3</th>\n",
       "      <th>fbs_1</th>\n",
       "      <th>restecg_1</th>\n",
       "      <th>restecg_2</th>\n",
       "      <th>slp_1</th>\n",
       "      <th>slp_2</th>\n",
       "      <th>thall_1</th>\n",
       "      <th>thall_2</th>\n",
       "      <th>thall_3</th>\n",
       "      <th>output</th>\n",
       "    </tr>\n",
       "  </thead>\n",
       "  <tbody>\n",
       "    <tr>\n",
       "      <th>132</th>\n",
       "      <td>-0.962963</td>\n",
       "      <td>-0.50</td>\n",
       "      <td>0.866142</td>\n",
       "      <td>0.276923</td>\n",
       "      <td>-0.500</td>\n",
       "      <td>True</td>\n",
       "      <td>False</td>\n",
       "      <td>False</td>\n",
       "      <td>False</td>\n",
       "      <td>False</td>\n",
       "      <td>...</td>\n",
       "      <td>False</td>\n",
       "      <td>False</td>\n",
       "      <td>True</td>\n",
       "      <td>False</td>\n",
       "      <td>False</td>\n",
       "      <td>True</td>\n",
       "      <td>False</td>\n",
       "      <td>True</td>\n",
       "      <td>False</td>\n",
       "      <td>1</td>\n",
       "    </tr>\n",
       "    <tr>\n",
       "      <th>202</th>\n",
       "      <td>0.222222</td>\n",
       "      <td>1.00</td>\n",
       "      <td>0.472441</td>\n",
       "      <td>-1.292308</td>\n",
       "      <td>0.000</td>\n",
       "      <td>True</td>\n",
       "      <td>True</td>\n",
       "      <td>False</td>\n",
       "      <td>False</td>\n",
       "      <td>False</td>\n",
       "      <td>...</td>\n",
       "      <td>False</td>\n",
       "      <td>False</td>\n",
       "      <td>False</td>\n",
       "      <td>False</td>\n",
       "      <td>False</td>\n",
       "      <td>True</td>\n",
       "      <td>False</td>\n",
       "      <td>False</td>\n",
       "      <td>True</td>\n",
       "      <td>0</td>\n",
       "    </tr>\n",
       "    <tr>\n",
       "      <th>196</th>\n",
       "      <td>-0.666667</td>\n",
       "      <td>1.00</td>\n",
       "      <td>-0.141732</td>\n",
       "      <td>-0.184615</td>\n",
       "      <td>1.750</td>\n",
       "      <td>True</td>\n",
       "      <td>False</td>\n",
       "      <td>False</td>\n",
       "      <td>False</td>\n",
       "      <td>False</td>\n",
       "      <td>...</td>\n",
       "      <td>False</td>\n",
       "      <td>False</td>\n",
       "      <td>True</td>\n",
       "      <td>False</td>\n",
       "      <td>True</td>\n",
       "      <td>False</td>\n",
       "      <td>False</td>\n",
       "      <td>True</td>\n",
       "      <td>False</td>\n",
       "      <td>0</td>\n",
       "    </tr>\n",
       "    <tr>\n",
       "      <th>75</th>\n",
       "      <td>0.000000</td>\n",
       "      <td>0.25</td>\n",
       "      <td>0.157480</td>\n",
       "      <td>0.246154</td>\n",
       "      <td>0.375</td>\n",
       "      <td>False</td>\n",
       "      <td>False</td>\n",
       "      <td>False</td>\n",
       "      <td>False</td>\n",
       "      <td>False</td>\n",
       "      <td>...</td>\n",
       "      <td>False</td>\n",
       "      <td>False</td>\n",
       "      <td>False</td>\n",
       "      <td>False</td>\n",
       "      <td>True</td>\n",
       "      <td>False</td>\n",
       "      <td>False</td>\n",
       "      <td>True</td>\n",
       "      <td>False</td>\n",
       "      <td>1</td>\n",
       "    </tr>\n",
       "    <tr>\n",
       "      <th>176</th>\n",
       "      <td>0.370370</td>\n",
       "      <td>-0.65</td>\n",
       "      <td>-0.157480</td>\n",
       "      <td>0.215385</td>\n",
       "      <td>0.375</td>\n",
       "      <td>True</td>\n",
       "      <td>True</td>\n",
       "      <td>False</td>\n",
       "      <td>True</td>\n",
       "      <td>False</td>\n",
       "      <td>...</td>\n",
       "      <td>False</td>\n",
       "      <td>True</td>\n",
       "      <td>True</td>\n",
       "      <td>False</td>\n",
       "      <td>False</td>\n",
       "      <td>True</td>\n",
       "      <td>False</td>\n",
       "      <td>False</td>\n",
       "      <td>True</td>\n",
       "      <td>0</td>\n",
       "    </tr>\n",
       "  </tbody>\n",
       "</table>\n",
       "<p>5 rows × 23 columns</p>\n",
       "</div>"
      ],
      "text/plain": [
       "          age  trtbps      chol  thalachh  oldpeak  sex_1  exng_1  caa_1  \\\n",
       "132 -0.962963   -0.50  0.866142  0.276923   -0.500   True   False  False   \n",
       "202  0.222222    1.00  0.472441 -1.292308    0.000   True    True  False   \n",
       "196 -0.666667    1.00 -0.141732 -0.184615    1.750   True   False  False   \n",
       "75   0.000000    0.25  0.157480  0.246154    0.375  False   False  False   \n",
       "176  0.370370   -0.65 -0.157480  0.215385    0.375   True    True  False   \n",
       "\n",
       "     caa_2  caa_3  ...   cp_3  fbs_1  restecg_1  restecg_2  slp_1  slp_2  \\\n",
       "132  False  False  ...  False  False       True      False  False   True   \n",
       "202  False  False  ...  False  False      False      False  False   True   \n",
       "196  False  False  ...  False  False       True      False   True  False   \n",
       "75   False  False  ...  False  False      False      False   True  False   \n",
       "176   True  False  ...  False   True       True      False  False   True   \n",
       "\n",
       "     thall_1  thall_2  thall_3  output  \n",
       "132    False     True    False       1  \n",
       "202    False    False     True       0  \n",
       "196    False     True    False       0  \n",
       "75     False     True    False       1  \n",
       "176    False    False     True       0  \n",
       "\n",
       "[5 rows x 23 columns]"
      ]
     },
     "execution_count": 27,
     "metadata": {},
     "output_type": "execute_result"
    }
   ],
   "source": [
    "CT_data = pd.concat([sdv_data, CTGan_synth_data])\n",
    "\n",
    "CT_data.head()"
   ]
  },
  {
   "cell_type": "code",
   "execution_count": 28,
   "metadata": {},
   "outputs": [],
   "source": [
    "from sdv.single_table import TVAESynthesizer\n",
    "\n",
    "TV_synth = TVAESynthesizer(metadata)"
   ]
  },
  {
   "cell_type": "code",
   "execution_count": 29,
   "metadata": {},
   "outputs": [],
   "source": [
    "TV_synth.fit(sdv_data)"
   ]
  },
  {
   "cell_type": "code",
   "execution_count": 30,
   "metadata": {},
   "outputs": [],
   "source": [
    "TV_synth_data = TV_synth.sample(num_rows=242)"
   ]
  },
  {
   "cell_type": "code",
   "execution_count": 31,
   "metadata": {},
   "outputs": [
    {
     "name": "stdout",
     "output_type": "stream",
     "text": [
      "Generating report ...\n",
      "\n",
      "(1/2) Evaluating Column Shapes: |██████████| 23/23 [00:00<00:00, 1911.03it/s]|\n",
      "Column Shapes Score: 87.98%\n",
      "\n",
      "(2/2) Evaluating Column Pair Trends: |██████████| 253/253 [00:03<00:00, 71.90it/s]| \n",
      "Column Pair Trends Score: 53.42%\n",
      "\n",
      "Overall Score (Average): 70.7%\n",
      "\n"
     ]
    },
    {
     "data": {
      "application/vnd.plotly.v1+json": {
       "config": {
        "plotlyServerURL": "https://plot.ly"
       },
       "data": [
        {
         "coloraxis": "coloraxis",
         "hovertemplate": "<b>Column Pair</b><br>(%{x},%{y})<br><br>Similarity: %{z}<extra></extra>",
         "type": "heatmap",
         "x": [
          "age",
          "trtbps",
          "chol",
          "thalachh",
          "oldpeak",
          "sex_1",
          "exng_1",
          "caa_1",
          "caa_2",
          "caa_3",
          "caa_4",
          "cp_1",
          "cp_2",
          "cp_3",
          "fbs_1",
          "restecg_1",
          "restecg_2",
          "slp_1",
          "slp_2",
          "thall_1",
          "thall_2",
          "thall_3",
          "output"
         ],
         "xaxis": "x",
         "y": [
          "age",
          "trtbps",
          "chol",
          "thalachh",
          "oldpeak",
          "sex_1",
          "exng_1",
          "caa_1",
          "caa_2",
          "caa_3",
          "caa_4",
          "cp_1",
          "cp_2",
          "cp_3",
          "fbs_1",
          "restecg_1",
          "restecg_2",
          "slp_1",
          "slp_2",
          "thall_1",
          "thall_2",
          "thall_3",
          "output"
         ],
         "yaxis": "y",
         "z": [
          [
           1,
           0.962,
           0.949,
           0.978,
           0.874,
           0,
           0,
           0,
           0,
           0,
           0,
           0,
           0,
           0,
           0,
           0,
           0,
           0,
           0,
           0,
           0,
           0,
           0
          ],
          [
           0.962,
           1,
           0.988,
           0.962,
           0.98,
           0,
           0,
           0,
           0,
           0,
           0,
           0,
           0,
           0,
           0,
           0,
           0,
           0,
           0,
           0,
           0,
           0,
           0
          ],
          [
           0.949,
           0.988,
           1,
           0.922,
           0.914,
           0,
           0,
           0,
           0,
           0,
           0,
           0,
           0,
           0,
           0,
           0,
           0,
           0,
           0,
           0,
           0,
           0,
           0
          ],
          [
           0.978,
           0.962,
           0.922,
           1,
           0.949,
           0,
           0,
           0,
           0,
           0,
           0,
           0,
           0,
           0,
           0,
           0,
           0,
           0,
           0,
           0,
           0,
           0,
           0
          ],
          [
           0.874,
           0.98,
           0.914,
           0.949,
           1,
           0,
           0,
           0,
           0,
           0,
           0,
           0,
           0,
           0,
           0,
           0,
           0,
           0,
           0,
           0,
           0,
           0,
           0
          ],
          [
           0,
           0,
           0,
           0,
           0,
           1,
           0.76,
           0.723,
           0.818,
           0.835,
           0.876,
           0.781,
           0.715,
           0.831,
           0.798,
           0.888,
           0.884,
           0.888,
           0.888,
           0.831,
           0.847,
           0.806,
           0.864
          ],
          [
           0,
           0,
           0,
           0,
           0,
           0.76,
           1,
           0.69,
           0.731,
           0.76,
           0.789,
           0.645,
           0.566,
           0.744,
           0.715,
           0.802,
           0.793,
           0.802,
           0.802,
           0.769,
           0.802,
           0.748,
           0.802
          ],
          [
           0,
           0,
           0,
           0,
           0,
           0.723,
           0.69,
           1,
           0.678,
           0.719,
           0.773,
           0.649,
           0.566,
           0.727,
           0.686,
           0.785,
           0.773,
           0.785,
           0.785,
           0.74,
           0.785,
           0.756,
           0.785
          ],
          [
           0,
           0,
           0,
           0,
           0,
           0.818,
           0.731,
           0.678,
           1,
           0.826,
           0.88,
           0.731,
           0.616,
           0.839,
           0.785,
           0.893,
           0.876,
           0.893,
           0.893,
           0.847,
           0.864,
           0.81,
           0.893
          ],
          [
           0,
           0,
           0,
           0,
           0,
           0.835,
           0.76,
           0.719,
           0.826,
           1,
           0.921,
           0.769,
           0.669,
           0.864,
           0.822,
           0.926,
           0.921,
           0.926,
           0.917,
           0.884,
           0.884,
           0.835,
           0.909
          ],
          [
           0,
           0,
           0,
           0,
           0,
           0.876,
           0.789,
           0.773,
           0.88,
           0.921,
           1,
           0.822,
           0.715,
           0.917,
           0.86,
           0.967,
           0.971,
           0.942,
           0.959,
           0.93,
           0.901,
           0.86,
           0.909
          ],
          [
           0,
           0,
           0,
           0,
           0,
           0.781,
           0.645,
           0.649,
           0.731,
           0.769,
           0.822,
           1,
           0.55,
           0.76,
           0.715,
           0.831,
           0.814,
           0.826,
           0.831,
           0.777,
           0.777,
           0.731,
           0.789
          ],
          [
           0,
           0,
           0,
           0,
           0,
           0.715,
           0.566,
           0.566,
           0.616,
           0.669,
           0.715,
           0.55,
           1,
           0.649,
           0.645,
           0.719,
           0.707,
           0.719,
           0.719,
           0.669,
           0.719,
           0.669,
           0.711
          ],
          [
           0,
           0,
           0,
           0,
           0,
           0.831,
           0.744,
           0.727,
           0.839,
           0.864,
           0.917,
           0.76,
           0.649,
           1,
           0.822,
           0.926,
           0.913,
           0.917,
           0.921,
           0.88,
           0.864,
           0.814,
           0.872
          ],
          [
           0,
           0,
           0,
           0,
           0,
           0.798,
           0.715,
           0.686,
           0.785,
           0.822,
           0.86,
           0.715,
           0.645,
           0.822,
           1,
           0.872,
           0.855,
           0.872,
           0.872,
           0.831,
           0.847,
           0.789,
           0.851
          ],
          [
           0,
           0,
           0,
           0,
           0,
           0.888,
           0.802,
           0.785,
           0.893,
           0.926,
           0.967,
           0.831,
           0.719,
           0.926,
           0.872,
           1,
           0.95,
           0.818,
           0.822,
           0.93,
           0.909,
           0.868,
           0.905
          ],
          [
           0,
           0,
           0,
           0,
           0,
           0.884,
           0.793,
           0.773,
           0.876,
           0.921,
           0.971,
           0.814,
           0.707,
           0.913,
           0.855,
           0.95,
           1,
           0.946,
           0.946,
           0.93,
           0.901,
           0.855,
           0.917
          ],
          [
           0,
           0,
           0,
           0,
           0,
           0.888,
           0.802,
           0.785,
           0.893,
           0.926,
           0.942,
           0.826,
           0.719,
           0.917,
           0.872,
           0.818,
           0.946,
           1,
           0.905,
           0.93,
           0.909,
           0.868,
           0.884
          ],
          [
           0,
           0,
           0,
           0,
           0,
           0.888,
           0.802,
           0.785,
           0.893,
           0.917,
           0.959,
           0.831,
           0.719,
           0.921,
           0.872,
           0.822,
           0.946,
           0.905,
           1,
           0.913,
           0.909,
           0.868,
           0.901
          ],
          [
           0,
           0,
           0,
           0,
           0,
           0.831,
           0.769,
           0.74,
           0.847,
           0.884,
           0.93,
           0.777,
           0.669,
           0.88,
           0.831,
           0.93,
           0.93,
           0.93,
           0.913,
           1,
           0.909,
           0.81,
           0.905
          ],
          [
           0,
           0,
           0,
           0,
           0,
           0.847,
           0.802,
           0.785,
           0.864,
           0.884,
           0.901,
           0.777,
           0.719,
           0.864,
           0.847,
           0.909,
           0.901,
           0.909,
           0.909,
           0.909,
           1,
           0.868,
           0.86
          ],
          [
           0,
           0,
           0,
           0,
           0,
           0.806,
           0.748,
           0.756,
           0.81,
           0.835,
           0.86,
           0.731,
           0.669,
           0.814,
           0.789,
           0.868,
           0.855,
           0.868,
           0.868,
           0.81,
           0.868,
           1,
           0.851
          ],
          [
           0,
           0,
           0,
           0,
           0,
           0.864,
           0.802,
           0.785,
           0.893,
           0.909,
           0.909,
           0.789,
           0.711,
           0.872,
           0.851,
           0.905,
           0.917,
           0.884,
           0.901,
           0.905,
           0.86,
           0.851,
           1
          ]
         ]
        },
        {
         "coloraxis": "coloraxis2",
         "customdata": [
          [
           1,
           0.209,
           0.334,
           -0.353,
           0.454
          ],
          [
           0.209,
           1,
           0.171,
           0.038,
           0.093
          ],
          [
           0.334,
           0.171,
           1,
           -0.144,
           0.283
          ],
          [
           -0.353,
           0.038,
           -0.144,
           1,
           -0.447
          ],
          [
           0.454,
           0.093,
           0.283,
           -0.447,
           1
          ]
         ],
         "hovertemplate": "<b>Correlation</b><br>(%{x},%{y})<br><br>Synthetic: %{z}<br>(vs. Real: %{customdata})<extra></extra>",
         "type": "heatmap",
         "x": [
          "age",
          "trtbps",
          "chol",
          "thalachh",
          "oldpeak"
         ],
         "xaxis": "x2",
         "y": [
          "age",
          "trtbps",
          "chol",
          "thalachh",
          "oldpeak"
         ],
         "yaxis": "y2",
         "z": [
          [
           1,
           0.285,
           0.232,
           -0.396,
           0.202
          ],
          [
           0.285,
           1,
           0.148,
           -0.038,
           0.132
          ],
          [
           0.232,
           0.148,
           1,
           0.013,
           0.111
          ],
          [
           -0.396,
           -0.038,
           0.013,
           1,
           -0.345
          ],
          [
           0.202,
           0.132,
           0.111,
           -0.345,
           1
          ]
         ]
        },
        {
         "coloraxis": "coloraxis2",
         "customdata": [
          [
           1,
           0.285,
           0.232,
           -0.396,
           0.202
          ],
          [
           0.285,
           1,
           0.148,
           -0.038,
           0.132
          ],
          [
           0.232,
           0.148,
           1,
           0.013,
           0.111
          ],
          [
           -0.396,
           -0.038,
           0.013,
           1,
           -0.345
          ],
          [
           0.202,
           0.132,
           0.111,
           -0.345,
           1
          ]
         ],
         "hovertemplate": "<b>Correlation</b><br>(%{x},%{y})<br><br>Synthetic: %{z}<br>(vs. Real: %{customdata})<extra></extra>",
         "type": "heatmap",
         "x": [
          "age",
          "trtbps",
          "chol",
          "thalachh",
          "oldpeak"
         ],
         "xaxis": "x3",
         "y": [
          "age",
          "trtbps",
          "chol",
          "thalachh",
          "oldpeak"
         ],
         "yaxis": "y3",
         "z": [
          [
           1,
           0.209,
           0.334,
           -0.353,
           0.454
          ],
          [
           0.209,
           1,
           0.171,
           0.038,
           0.093
          ],
          [
           0.334,
           0.171,
           1,
           -0.144,
           0.283
          ],
          [
           -0.353,
           0.038,
           -0.144,
           1,
           -0.447
          ],
          [
           0.454,
           0.093,
           0.283,
           -0.447,
           1
          ]
         ]
        }
       ],
       "layout": {
        "annotations": [
         {
          "font": {
           "size": 16
          },
          "showarrow": false,
          "text": "Real vs. Synthetic Similarity",
          "x": 0.5,
          "xanchor": "center",
          "xref": "paper",
          "y": 1,
          "yanchor": "bottom",
          "yref": "paper"
         },
         {
          "font": {
           "size": 16
          },
          "showarrow": false,
          "text": "Numerical Correlation (Real Data)",
          "x": 0.225,
          "xanchor": "center",
          "xref": "paper",
          "y": 0.375,
          "yanchor": "bottom",
          "yref": "paper"
         },
         {
          "font": {
           "size": 16
          },
          "showarrow": false,
          "text": "Numerical Correlation (Synthetic Data)",
          "x": 0.775,
          "xanchor": "center",
          "xref": "paper",
          "y": 0.375,
          "yanchor": "bottom",
          "yref": "paper"
         }
        ],
        "coloraxis": {
         "cmax": 1,
         "cmin": 0,
         "colorbar": {
          "len": 0.5,
          "x": 0.8,
          "y": 0.8
         },
         "colorscale": [
          [
           0,
           "#FF0000"
          ],
          [
           0.5,
           "#F16141"
          ],
          [
           1,
           "#36B37E"
          ]
         ]
        },
        "coloraxis2": {
         "cmax": 1,
         "cmin": -1,
         "colorbar": {
          "len": 0.5,
          "y": 0.2
         },
         "colorscale": [
          [
           0,
           "#03AFF1"
          ],
          [
           0.5,
           "#000036"
          ],
          [
           1,
           "#01E0C9"
          ]
         ]
        },
        "font": {
         "size": 18
        },
        "height": 900,
        "template": {
         "data": {
          "bar": [
           {
            "error_x": {
             "color": "#2a3f5f"
            },
            "error_y": {
             "color": "#2a3f5f"
            },
            "marker": {
             "line": {
              "color": "#E5ECF6",
              "width": 0.5
             },
             "pattern": {
              "fillmode": "overlay",
              "size": 10,
              "solidity": 0.2
             }
            },
            "type": "bar"
           }
          ],
          "barpolar": [
           {
            "marker": {
             "line": {
              "color": "#E5ECF6",
              "width": 0.5
             },
             "pattern": {
              "fillmode": "overlay",
              "size": 10,
              "solidity": 0.2
             }
            },
            "type": "barpolar"
           }
          ],
          "carpet": [
           {
            "aaxis": {
             "endlinecolor": "#2a3f5f",
             "gridcolor": "white",
             "linecolor": "white",
             "minorgridcolor": "white",
             "startlinecolor": "#2a3f5f"
            },
            "baxis": {
             "endlinecolor": "#2a3f5f",
             "gridcolor": "white",
             "linecolor": "white",
             "minorgridcolor": "white",
             "startlinecolor": "#2a3f5f"
            },
            "type": "carpet"
           }
          ],
          "choropleth": [
           {
            "colorbar": {
             "outlinewidth": 0,
             "ticks": ""
            },
            "type": "choropleth"
           }
          ],
          "contour": [
           {
            "colorbar": {
             "outlinewidth": 0,
             "ticks": ""
            },
            "colorscale": [
             [
              0,
              "#0d0887"
             ],
             [
              0.1111111111111111,
              "#46039f"
             ],
             [
              0.2222222222222222,
              "#7201a8"
             ],
             [
              0.3333333333333333,
              "#9c179e"
             ],
             [
              0.4444444444444444,
              "#bd3786"
             ],
             [
              0.5555555555555556,
              "#d8576b"
             ],
             [
              0.6666666666666666,
              "#ed7953"
             ],
             [
              0.7777777777777778,
              "#fb9f3a"
             ],
             [
              0.8888888888888888,
              "#fdca26"
             ],
             [
              1,
              "#f0f921"
             ]
            ],
            "type": "contour"
           }
          ],
          "contourcarpet": [
           {
            "colorbar": {
             "outlinewidth": 0,
             "ticks": ""
            },
            "type": "contourcarpet"
           }
          ],
          "heatmap": [
           {
            "colorbar": {
             "outlinewidth": 0,
             "ticks": ""
            },
            "colorscale": [
             [
              0,
              "#0d0887"
             ],
             [
              0.1111111111111111,
              "#46039f"
             ],
             [
              0.2222222222222222,
              "#7201a8"
             ],
             [
              0.3333333333333333,
              "#9c179e"
             ],
             [
              0.4444444444444444,
              "#bd3786"
             ],
             [
              0.5555555555555556,
              "#d8576b"
             ],
             [
              0.6666666666666666,
              "#ed7953"
             ],
             [
              0.7777777777777778,
              "#fb9f3a"
             ],
             [
              0.8888888888888888,
              "#fdca26"
             ],
             [
              1,
              "#f0f921"
             ]
            ],
            "type": "heatmap"
           }
          ],
          "heatmapgl": [
           {
            "colorbar": {
             "outlinewidth": 0,
             "ticks": ""
            },
            "colorscale": [
             [
              0,
              "#0d0887"
             ],
             [
              0.1111111111111111,
              "#46039f"
             ],
             [
              0.2222222222222222,
              "#7201a8"
             ],
             [
              0.3333333333333333,
              "#9c179e"
             ],
             [
              0.4444444444444444,
              "#bd3786"
             ],
             [
              0.5555555555555556,
              "#d8576b"
             ],
             [
              0.6666666666666666,
              "#ed7953"
             ],
             [
              0.7777777777777778,
              "#fb9f3a"
             ],
             [
              0.8888888888888888,
              "#fdca26"
             ],
             [
              1,
              "#f0f921"
             ]
            ],
            "type": "heatmapgl"
           }
          ],
          "histogram": [
           {
            "marker": {
             "pattern": {
              "fillmode": "overlay",
              "size": 10,
              "solidity": 0.2
             }
            },
            "type": "histogram"
           }
          ],
          "histogram2d": [
           {
            "colorbar": {
             "outlinewidth": 0,
             "ticks": ""
            },
            "colorscale": [
             [
              0,
              "#0d0887"
             ],
             [
              0.1111111111111111,
              "#46039f"
             ],
             [
              0.2222222222222222,
              "#7201a8"
             ],
             [
              0.3333333333333333,
              "#9c179e"
             ],
             [
              0.4444444444444444,
              "#bd3786"
             ],
             [
              0.5555555555555556,
              "#d8576b"
             ],
             [
              0.6666666666666666,
              "#ed7953"
             ],
             [
              0.7777777777777778,
              "#fb9f3a"
             ],
             [
              0.8888888888888888,
              "#fdca26"
             ],
             [
              1,
              "#f0f921"
             ]
            ],
            "type": "histogram2d"
           }
          ],
          "histogram2dcontour": [
           {
            "colorbar": {
             "outlinewidth": 0,
             "ticks": ""
            },
            "colorscale": [
             [
              0,
              "#0d0887"
             ],
             [
              0.1111111111111111,
              "#46039f"
             ],
             [
              0.2222222222222222,
              "#7201a8"
             ],
             [
              0.3333333333333333,
              "#9c179e"
             ],
             [
              0.4444444444444444,
              "#bd3786"
             ],
             [
              0.5555555555555556,
              "#d8576b"
             ],
             [
              0.6666666666666666,
              "#ed7953"
             ],
             [
              0.7777777777777778,
              "#fb9f3a"
             ],
             [
              0.8888888888888888,
              "#fdca26"
             ],
             [
              1,
              "#f0f921"
             ]
            ],
            "type": "histogram2dcontour"
           }
          ],
          "mesh3d": [
           {
            "colorbar": {
             "outlinewidth": 0,
             "ticks": ""
            },
            "type": "mesh3d"
           }
          ],
          "parcoords": [
           {
            "line": {
             "colorbar": {
              "outlinewidth": 0,
              "ticks": ""
             }
            },
            "type": "parcoords"
           }
          ],
          "pie": [
           {
            "automargin": true,
            "type": "pie"
           }
          ],
          "scatter": [
           {
            "fillpattern": {
             "fillmode": "overlay",
             "size": 10,
             "solidity": 0.2
            },
            "type": "scatter"
           }
          ],
          "scatter3d": [
           {
            "line": {
             "colorbar": {
              "outlinewidth": 0,
              "ticks": ""
             }
            },
            "marker": {
             "colorbar": {
              "outlinewidth": 0,
              "ticks": ""
             }
            },
            "type": "scatter3d"
           }
          ],
          "scattercarpet": [
           {
            "marker": {
             "colorbar": {
              "outlinewidth": 0,
              "ticks": ""
             }
            },
            "type": "scattercarpet"
           }
          ],
          "scattergeo": [
           {
            "marker": {
             "colorbar": {
              "outlinewidth": 0,
              "ticks": ""
             }
            },
            "type": "scattergeo"
           }
          ],
          "scattergl": [
           {
            "marker": {
             "colorbar": {
              "outlinewidth": 0,
              "ticks": ""
             }
            },
            "type": "scattergl"
           }
          ],
          "scattermapbox": [
           {
            "marker": {
             "colorbar": {
              "outlinewidth": 0,
              "ticks": ""
             }
            },
            "type": "scattermapbox"
           }
          ],
          "scatterpolar": [
           {
            "marker": {
             "colorbar": {
              "outlinewidth": 0,
              "ticks": ""
             }
            },
            "type": "scatterpolar"
           }
          ],
          "scatterpolargl": [
           {
            "marker": {
             "colorbar": {
              "outlinewidth": 0,
              "ticks": ""
             }
            },
            "type": "scatterpolargl"
           }
          ],
          "scatterternary": [
           {
            "marker": {
             "colorbar": {
              "outlinewidth": 0,
              "ticks": ""
             }
            },
            "type": "scatterternary"
           }
          ],
          "surface": [
           {
            "colorbar": {
             "outlinewidth": 0,
             "ticks": ""
            },
            "colorscale": [
             [
              0,
              "#0d0887"
             ],
             [
              0.1111111111111111,
              "#46039f"
             ],
             [
              0.2222222222222222,
              "#7201a8"
             ],
             [
              0.3333333333333333,
              "#9c179e"
             ],
             [
              0.4444444444444444,
              "#bd3786"
             ],
             [
              0.5555555555555556,
              "#d8576b"
             ],
             [
              0.6666666666666666,
              "#ed7953"
             ],
             [
              0.7777777777777778,
              "#fb9f3a"
             ],
             [
              0.8888888888888888,
              "#fdca26"
             ],
             [
              1,
              "#f0f921"
             ]
            ],
            "type": "surface"
           }
          ],
          "table": [
           {
            "cells": {
             "fill": {
              "color": "#EBF0F8"
             },
             "line": {
              "color": "white"
             }
            },
            "header": {
             "fill": {
              "color": "#C8D4E3"
             },
             "line": {
              "color": "white"
             }
            },
            "type": "table"
           }
          ]
         },
         "layout": {
          "annotationdefaults": {
           "arrowcolor": "#2a3f5f",
           "arrowhead": 0,
           "arrowwidth": 1
          },
          "autotypenumbers": "strict",
          "coloraxis": {
           "colorbar": {
            "outlinewidth": 0,
            "ticks": ""
           }
          },
          "colorscale": {
           "diverging": [
            [
             0,
             "#8e0152"
            ],
            [
             0.1,
             "#c51b7d"
            ],
            [
             0.2,
             "#de77ae"
            ],
            [
             0.3,
             "#f1b6da"
            ],
            [
             0.4,
             "#fde0ef"
            ],
            [
             0.5,
             "#f7f7f7"
            ],
            [
             0.6,
             "#e6f5d0"
            ],
            [
             0.7,
             "#b8e186"
            ],
            [
             0.8,
             "#7fbc41"
            ],
            [
             0.9,
             "#4d9221"
            ],
            [
             1,
             "#276419"
            ]
           ],
           "sequential": [
            [
             0,
             "#0d0887"
            ],
            [
             0.1111111111111111,
             "#46039f"
            ],
            [
             0.2222222222222222,
             "#7201a8"
            ],
            [
             0.3333333333333333,
             "#9c179e"
            ],
            [
             0.4444444444444444,
             "#bd3786"
            ],
            [
             0.5555555555555556,
             "#d8576b"
            ],
            [
             0.6666666666666666,
             "#ed7953"
            ],
            [
             0.7777777777777778,
             "#fb9f3a"
            ],
            [
             0.8888888888888888,
             "#fdca26"
            ],
            [
             1,
             "#f0f921"
            ]
           ],
           "sequentialminus": [
            [
             0,
             "#0d0887"
            ],
            [
             0.1111111111111111,
             "#46039f"
            ],
            [
             0.2222222222222222,
             "#7201a8"
            ],
            [
             0.3333333333333333,
             "#9c179e"
            ],
            [
             0.4444444444444444,
             "#bd3786"
            ],
            [
             0.5555555555555556,
             "#d8576b"
            ],
            [
             0.6666666666666666,
             "#ed7953"
            ],
            [
             0.7777777777777778,
             "#fb9f3a"
            ],
            [
             0.8888888888888888,
             "#fdca26"
            ],
            [
             1,
             "#f0f921"
            ]
           ]
          },
          "colorway": [
           "#636efa",
           "#EF553B",
           "#00cc96",
           "#ab63fa",
           "#FFA15A",
           "#19d3f3",
           "#FF6692",
           "#B6E880",
           "#FF97FF",
           "#FECB52"
          ],
          "font": {
           "color": "#2a3f5f"
          },
          "geo": {
           "bgcolor": "white",
           "lakecolor": "white",
           "landcolor": "#E5ECF6",
           "showlakes": true,
           "showland": true,
           "subunitcolor": "white"
          },
          "hoverlabel": {
           "align": "left"
          },
          "hovermode": "closest",
          "mapbox": {
           "style": "light"
          },
          "paper_bgcolor": "white",
          "plot_bgcolor": "#E5ECF6",
          "polar": {
           "angularaxis": {
            "gridcolor": "white",
            "linecolor": "white",
            "ticks": ""
           },
           "bgcolor": "#E5ECF6",
           "radialaxis": {
            "gridcolor": "white",
            "linecolor": "white",
            "ticks": ""
           }
          },
          "scene": {
           "xaxis": {
            "backgroundcolor": "#E5ECF6",
            "gridcolor": "white",
            "gridwidth": 2,
            "linecolor": "white",
            "showbackground": true,
            "ticks": "",
            "zerolinecolor": "white"
           },
           "yaxis": {
            "backgroundcolor": "#E5ECF6",
            "gridcolor": "white",
            "gridwidth": 2,
            "linecolor": "white",
            "showbackground": true,
            "ticks": "",
            "zerolinecolor": "white"
           },
           "zaxis": {
            "backgroundcolor": "#E5ECF6",
            "gridcolor": "white",
            "gridwidth": 2,
            "linecolor": "white",
            "showbackground": true,
            "ticks": "",
            "zerolinecolor": "white"
           }
          },
          "shapedefaults": {
           "line": {
            "color": "#2a3f5f"
           }
          },
          "ternary": {
           "aaxis": {
            "gridcolor": "white",
            "linecolor": "white",
            "ticks": ""
           },
           "baxis": {
            "gridcolor": "white",
            "linecolor": "white",
            "ticks": ""
           },
           "bgcolor": "#E5ECF6",
           "caxis": {
            "gridcolor": "white",
            "linecolor": "white",
            "ticks": ""
           }
          },
          "title": {
           "x": 0.05
          },
          "xaxis": {
           "automargin": true,
           "gridcolor": "white",
           "linecolor": "white",
           "ticks": "",
           "title": {
            "standoff": 15
           },
           "zerolinecolor": "white",
           "zerolinewidth": 2
          },
          "yaxis": {
           "automargin": true,
           "gridcolor": "white",
           "linecolor": "white",
           "ticks": "",
           "title": {
            "standoff": 15
           },
           "zerolinecolor": "white",
           "zerolinewidth": 2
          }
         }
        },
        "title": {
         "text": "Data Quality: Column Pair Trends (Average Score=0.53)"
        },
        "width": 900,
        "xaxis": {
         "anchor": "y",
         "domain": [
          0.26,
          0.74
         ],
         "tickangle": 45
        },
        "xaxis2": {
         "anchor": "y2",
         "domain": [
          0,
          0.45
         ],
         "tickangle": 45
        },
        "xaxis3": {
         "anchor": "y3",
         "domain": [
          0.55,
          1
         ],
         "matches": "x2",
         "tickangle": 45
        },
        "yaxis": {
         "anchor": "x",
         "autorange": "reversed",
         "domain": [
          0.625,
          1
         ]
        },
        "yaxis2": {
         "anchor": "x2",
         "autorange": "reversed",
         "domain": [
          0,
          0.375
         ]
        },
        "yaxis3": {
         "anchor": "x3",
         "autorange": "reversed",
         "domain": [
          0,
          0.375
         ],
         "matches": "y2",
         "visible": false
        }
       }
      }
     },
     "metadata": {},
     "output_type": "display_data"
    }
   ],
   "source": [
    "quality_report_TV = evaluate_quality(\n",
    "    real_data=sdv_data,\n",
    "    synthetic_data=TV_synth_data,\n",
    "    metadata=metadata)\n",
    "quality_report_TV.get_visualization(property_name='Column Pair Trends').show(renderer='vscode')"
   ]
  },
  {
   "cell_type": "code",
   "execution_count": 32,
   "metadata": {},
   "outputs": [
    {
     "data": {
      "text/html": [
       "<div>\n",
       "<style scoped>\n",
       "    .dataframe tbody tr th:only-of-type {\n",
       "        vertical-align: middle;\n",
       "    }\n",
       "\n",
       "    .dataframe tbody tr th {\n",
       "        vertical-align: top;\n",
       "    }\n",
       "\n",
       "    .dataframe thead th {\n",
       "        text-align: right;\n",
       "    }\n",
       "</style>\n",
       "<table border=\"1\" class=\"dataframe\">\n",
       "  <thead>\n",
       "    <tr style=\"text-align: right;\">\n",
       "      <th></th>\n",
       "      <th>age</th>\n",
       "      <th>trtbps</th>\n",
       "      <th>chol</th>\n",
       "      <th>thalachh</th>\n",
       "      <th>oldpeak</th>\n",
       "      <th>sex_1</th>\n",
       "      <th>exng_1</th>\n",
       "      <th>caa_1</th>\n",
       "      <th>caa_2</th>\n",
       "      <th>caa_3</th>\n",
       "      <th>...</th>\n",
       "      <th>cp_3</th>\n",
       "      <th>fbs_1</th>\n",
       "      <th>restecg_1</th>\n",
       "      <th>restecg_2</th>\n",
       "      <th>slp_1</th>\n",
       "      <th>slp_2</th>\n",
       "      <th>thall_1</th>\n",
       "      <th>thall_2</th>\n",
       "      <th>thall_3</th>\n",
       "      <th>output</th>\n",
       "    </tr>\n",
       "  </thead>\n",
       "  <tbody>\n",
       "    <tr>\n",
       "      <th>132</th>\n",
       "      <td>-0.962963</td>\n",
       "      <td>-0.50</td>\n",
       "      <td>0.866142</td>\n",
       "      <td>0.276923</td>\n",
       "      <td>-0.500</td>\n",
       "      <td>True</td>\n",
       "      <td>False</td>\n",
       "      <td>False</td>\n",
       "      <td>False</td>\n",
       "      <td>False</td>\n",
       "      <td>...</td>\n",
       "      <td>False</td>\n",
       "      <td>False</td>\n",
       "      <td>True</td>\n",
       "      <td>False</td>\n",
       "      <td>False</td>\n",
       "      <td>True</td>\n",
       "      <td>False</td>\n",
       "      <td>True</td>\n",
       "      <td>False</td>\n",
       "      <td>1</td>\n",
       "    </tr>\n",
       "    <tr>\n",
       "      <th>202</th>\n",
       "      <td>0.222222</td>\n",
       "      <td>1.00</td>\n",
       "      <td>0.472441</td>\n",
       "      <td>-1.292308</td>\n",
       "      <td>0.000</td>\n",
       "      <td>True</td>\n",
       "      <td>True</td>\n",
       "      <td>False</td>\n",
       "      <td>False</td>\n",
       "      <td>False</td>\n",
       "      <td>...</td>\n",
       "      <td>False</td>\n",
       "      <td>False</td>\n",
       "      <td>False</td>\n",
       "      <td>False</td>\n",
       "      <td>False</td>\n",
       "      <td>True</td>\n",
       "      <td>False</td>\n",
       "      <td>False</td>\n",
       "      <td>True</td>\n",
       "      <td>0</td>\n",
       "    </tr>\n",
       "    <tr>\n",
       "      <th>196</th>\n",
       "      <td>-0.666667</td>\n",
       "      <td>1.00</td>\n",
       "      <td>-0.141732</td>\n",
       "      <td>-0.184615</td>\n",
       "      <td>1.750</td>\n",
       "      <td>True</td>\n",
       "      <td>False</td>\n",
       "      <td>False</td>\n",
       "      <td>False</td>\n",
       "      <td>False</td>\n",
       "      <td>...</td>\n",
       "      <td>False</td>\n",
       "      <td>False</td>\n",
       "      <td>True</td>\n",
       "      <td>False</td>\n",
       "      <td>True</td>\n",
       "      <td>False</td>\n",
       "      <td>False</td>\n",
       "      <td>True</td>\n",
       "      <td>False</td>\n",
       "      <td>0</td>\n",
       "    </tr>\n",
       "    <tr>\n",
       "      <th>75</th>\n",
       "      <td>0.000000</td>\n",
       "      <td>0.25</td>\n",
       "      <td>0.157480</td>\n",
       "      <td>0.246154</td>\n",
       "      <td>0.375</td>\n",
       "      <td>False</td>\n",
       "      <td>False</td>\n",
       "      <td>False</td>\n",
       "      <td>False</td>\n",
       "      <td>False</td>\n",
       "      <td>...</td>\n",
       "      <td>False</td>\n",
       "      <td>False</td>\n",
       "      <td>False</td>\n",
       "      <td>False</td>\n",
       "      <td>True</td>\n",
       "      <td>False</td>\n",
       "      <td>False</td>\n",
       "      <td>True</td>\n",
       "      <td>False</td>\n",
       "      <td>1</td>\n",
       "    </tr>\n",
       "    <tr>\n",
       "      <th>176</th>\n",
       "      <td>0.370370</td>\n",
       "      <td>-0.65</td>\n",
       "      <td>-0.157480</td>\n",
       "      <td>0.215385</td>\n",
       "      <td>0.375</td>\n",
       "      <td>True</td>\n",
       "      <td>True</td>\n",
       "      <td>False</td>\n",
       "      <td>True</td>\n",
       "      <td>False</td>\n",
       "      <td>...</td>\n",
       "      <td>False</td>\n",
       "      <td>True</td>\n",
       "      <td>True</td>\n",
       "      <td>False</td>\n",
       "      <td>False</td>\n",
       "      <td>True</td>\n",
       "      <td>False</td>\n",
       "      <td>False</td>\n",
       "      <td>True</td>\n",
       "      <td>0</td>\n",
       "    </tr>\n",
       "  </tbody>\n",
       "</table>\n",
       "<p>5 rows × 23 columns</p>\n",
       "</div>"
      ],
      "text/plain": [
       "          age  trtbps      chol  thalachh  oldpeak  sex_1  exng_1  caa_1  \\\n",
       "132 -0.962963   -0.50  0.866142  0.276923   -0.500   True   False  False   \n",
       "202  0.222222    1.00  0.472441 -1.292308    0.000   True    True  False   \n",
       "196 -0.666667    1.00 -0.141732 -0.184615    1.750   True   False  False   \n",
       "75   0.000000    0.25  0.157480  0.246154    0.375  False   False  False   \n",
       "176  0.370370   -0.65 -0.157480  0.215385    0.375   True    True  False   \n",
       "\n",
       "     caa_2  caa_3  ...   cp_3  fbs_1  restecg_1  restecg_2  slp_1  slp_2  \\\n",
       "132  False  False  ...  False  False       True      False  False   True   \n",
       "202  False  False  ...  False  False      False      False  False   True   \n",
       "196  False  False  ...  False  False       True      False   True  False   \n",
       "75   False  False  ...  False  False      False      False   True  False   \n",
       "176   True  False  ...  False   True       True      False  False   True   \n",
       "\n",
       "     thall_1  thall_2  thall_3  output  \n",
       "132    False     True    False       1  \n",
       "202    False    False     True       0  \n",
       "196    False     True    False       0  \n",
       "75     False     True    False       1  \n",
       "176    False    False     True       0  \n",
       "\n",
       "[5 rows x 23 columns]"
      ]
     },
     "execution_count": 32,
     "metadata": {},
     "output_type": "execute_result"
    }
   ],
   "source": [
    "TV_data = pd.concat([sdv_data, TV_synth_data])\n",
    "\n",
    "TV_data.head()"
   ]
  },
  {
   "cell_type": "code",
   "execution_count": null,
   "metadata": {},
   "outputs": [],
   "source": []
  }
 ],
 "metadata": {
  "kernelspec": {
   "display_name": "Python 3",
   "language": "python",
   "name": "python3"
  },
  "language_info": {
   "codemirror_mode": {
    "name": "ipython",
    "version": 3
   },
   "file_extension": ".py",
   "mimetype": "text/x-python",
   "name": "python",
   "nbconvert_exporter": "python",
   "pygments_lexer": "ipython3",
   "version": "3.11.8"
  }
 },
 "nbformat": 4,
 "nbformat_minor": 2
}
